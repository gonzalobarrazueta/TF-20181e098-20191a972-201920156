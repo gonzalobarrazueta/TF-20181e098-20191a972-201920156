{
  "nbformat": 4,
  "nbformat_minor": 0,
  "metadata": {
    "colab": {
      "name": "MAPS.ipynb",
      "provenance": [],
      "collapsed_sections": [],
      "toc_visible": true,
      "authorship_tag": "ABX9TyNC+q0umiCHMKT0/5YIM7wI",
      "include_colab_link": true
    },
    "kernelspec": {
      "name": "python3",
      "display_name": "Python 3"
    },
    "language_info": {
      "name": "python"
    }
  },
  "cells": [
    {
      "cell_type": "markdown",
      "metadata": {
        "id": "view-in-github",
        "colab_type": "text"
      },
      "source": [
        "<a href=\"https://colab.research.google.com/github/gonzalobarrazueta/TF-20181e098-20191a972-201920156/blob/main/MAPS.ipynb\" target=\"_parent\"><img src=\"https://colab.research.google.com/assets/colab-badge.svg\" alt=\"Open In Colab\"/></a>"
      ]
    },
    {
      "cell_type": "markdown",
      "source": [
        "##**Imports**"
      ],
      "metadata": {
        "id": "rdPNXFH5essP"
      }
    },
    {
      "cell_type": "code",
      "source": [
        "# Perlin Noise\n",
        "!pip install perlin_noise\n",
        "import matplotlib.pyplot as plt\n",
        "import numpy as np\n",
        "from perlin_noise import PerlinNoise\n",
        "# ------------\n",
        "import csv\n",
        "import json\n",
        "# Sección Aristas\n",
        "from datetime import datetime\n",
        "from math import radians, cos, sin, asin, sqrt\n",
        "import random\n",
        "# ------------"
      ],
      "metadata": {
        "id": "Ft_WMWjKegCO"
      },
      "execution_count": null,
      "outputs": []
    },
    {
      "cell_type": "markdown",
      "source": [
        "##**Diccionario de calles**\n",
        "Crea un diccionario donde cada nombre de calle ***(key)*** tiene asignado un `id` ***(value)***"
      ],
      "metadata": {
        "id": "F1p7UhsvkRNT"
      }
    },
    {
      "cell_type": "code",
      "source": [
        "def addKey_Values(dictionary, key, value):\n",
        "    dictionary[key] = value"
      ],
      "metadata": {
        "id": "qvn_alN-9gkk"
      },
      "execution_count": 2,
      "outputs": []
    },
    {
      "cell_type": "code",
      "source": [
        "def printDictionary(dictionary):\n",
        "    for k, v in dictionary.items():\n",
        "        print(f\"{k}: {v}\")"
      ],
      "metadata": {
        "id": "LE5QHCb5pbNy"
      },
      "execution_count": 115,
      "outputs": []
    },
    {
      "cell_type": "code",
      "source": [
        "def cargarDatos(dictionary):\n",
        "    with open('Calles de San Martín de Porres.csv') as file: \n",
        "        reader = csv.reader(file)\n",
        "        \n",
        "        for id, row in enumerate(reader):\n",
        "            addKey_Values(dictionary, row[0].lower(), id)"
      ],
      "metadata": {
        "id": "aBWrVHPpFxBC"
      },
      "execution_count": 4,
      "outputs": []
    },
    {
      "cell_type": "code",
      "source": [
        "def createStreetsDictionary():   \n",
        "    streets = {}\n",
        "    cargarDatos(streets)\n",
        "    return streets"
      ],
      "metadata": {
        "id": "HQAcMl46rQlA"
      },
      "execution_count": 118,
      "outputs": []
    },
    {
      "cell_type": "code",
      "source": [
        "streetsDictionary = createStreetsDictionary()"
      ],
      "metadata": {
        "id": "KjmA0jq_Im3f"
      },
      "execution_count": 117,
      "outputs": []
    },
    {
      "cell_type": "markdown",
      "source": [
        "##**Lista de Adyacencia de calles y sus intersecciones**\n",
        "\n",
        "\n"
      ],
      "metadata": {
        "id": "J0b-KrPix_58"
      }
    },
    {
      "cell_type": "code",
      "source": [
        "def printAdList(graph): \n",
        "    for i, intersection in enumerate(graph):\n",
        "        print(i, intersection)\n",
        "    \n",
        "    print(f\"Cantidad de vértices = {len(graph)}\")"
      ],
      "metadata": {
        "id": "Gaop7miPqVSA"
      },
      "execution_count": 8,
      "outputs": []
    },
    {
      "cell_type": "code",
      "source": [
        "def streetExists(streetName):\n",
        "    if streetName in streetsDictionary:\n",
        "        id = streetsDictionary[streetName]\n",
        "    else:\n",
        "        id = -1 # la calle no está mapeada\n",
        "    return id"
      ],
      "metadata": {
        "id": "5hBrXQFU4geG"
      },
      "execution_count": 7,
      "outputs": []
    },
    {
      "cell_type": "code",
      "source": [
        "# adjacencyList: arreglo de arreglos, donde la pos del primer elemento (1er arreglo)\n",
        "# es la calle y el arreglo son todas las calles con las que se intersecta\n",
        "def createAdjacencyList(adjacencyList):\n",
        "    with open('Calles de San Martín de Porres.csv') as file: \n",
        "        reader = csv.reader(file)\n",
        "        for row in reader:  \n",
        "            intersections = []\n",
        "            for i in range(len(row)):\n",
        "                if i != 0:\n",
        "                    intersections.append(streetExists(row[i].lower()))\n",
        "            adjacencyList.append(intersections)\n",
        "\n",
        "    return adjacencyList"
      ],
      "metadata": {
        "id": "ZTtbPcxvVxvy"
      },
      "execution_count": 9,
      "outputs": []
    },
    {
      "cell_type": "code",
      "source": [
        "# creal la lista de adyacencia\n",
        "intersectionsAdList = createAdjacencyList([])"
      ],
      "metadata": {
        "id": "jdBc97CMMN2v"
      },
      "execution_count": 10,
      "outputs": []
    },
    {
      "cell_type": "markdown",
      "source": [
        "##**Lista de Adyacencia de intersecciones (Grafo Principal)**"
      ],
      "metadata": {
        "id": "rxPsDAM35t5d"
      }
    },
    {
      "cell_type": "code",
      "source": [
        "def createKeys(graph):\n",
        "    intersectionsIDs = {}\n",
        "\n",
        "    for i in range(len(graph)):\n",
        "        for street in graph[i]:\n",
        "            # si las keys aún no han sido creadas, las agrega al diccionario\n",
        "            if (i, street) not in intersectionsIDs and street != -1:\n",
        "                intersectionsIDs[(i, street)] = []\n",
        "\n",
        "    return intersectionsIDs"
      ],
      "metadata": {
        "id": "LCoD5Unynb4n"
      },
      "execution_count": 119,
      "outputs": []
    },
    {
      "cell_type": "code",
      "source": [
        "def addIntersections(graph, i, j):  \n",
        "    street = graph[i][j]\n",
        "\n",
        "    if street != -1:\n",
        "        # agrego la intersección már próxima hacia la izquierda\n",
        "        if j > 0 and graph[i][j - 1] != -1:\n",
        "            tup = (i, graph[i][j - 1])\n",
        "            map[(i, street)].append(tup)\n",
        "\n",
        "        # agrego la intersección már próxima hacia la derecha\n",
        "        if j < len(graph[i]) - 1 and graph[i][j + 1] != -1:\n",
        "            tup = (i, graph[i][j + 1])\n",
        "            map[(i, street)].append(tup)"
      ],
      "metadata": {
        "id": "1qBKJ3lsAg2O"
      },
      "execution_count": 120,
      "outputs": []
    },
    {
      "cell_type": "code",
      "source": [
        "def addIntersectionsReversed(graph, i, j):  \n",
        "    street = graph[i][j]\n",
        "\n",
        "    # ahora voy al reverso de la lista\n",
        "    if i != -1 and street != -1:\n",
        "        if (street < len(graph)) and (i in graph[street]):\n",
        "            tup = (street, i)\n",
        "            map[(i, street)].append(tup)\n",
        "            \n",
        "            k = graph[street].index(i) # k = 2\n",
        "\n",
        "            if k > 0 and graph[street][k - 1] != -1:\n",
        "                tup = (street, graph[street][k - 1])\n",
        "                map[(i, street)].append(tup)\n",
        "        \n",
        "            if k < len(graph[street]) - 1 and graph[street][k + 1] != -1:\n",
        "                tup = (street, graph[street][k + 1])\n",
        "                map[(i, street)].append(tup)"
      ],
      "metadata": {
        "id": "S9CGv6Fy-CN9"
      },
      "execution_count": 121,
      "outputs": []
    },
    {
      "cell_type": "code",
      "source": [
        "def joinIntersections(graph):\n",
        "    n = len(graph)\n",
        "    for i in range(n):        \n",
        "        for j in range(len(graph[i])):\n",
        "            addIntersections(graph, i, j)\n",
        "            addIntersectionsReversed(graph, i, j)"
      ],
      "metadata": {
        "id": "kZCXXHwk50Ho"
      },
      "execution_count": 122,
      "outputs": []
    },
    {
      "cell_type": "code",
      "source": [
        "# calcula el total de nodos solo par el grafo \"map\"\n",
        "def totalNodes(graph):\n",
        "    total = 0 \n",
        "    for key, value in graph.items():\n",
        "        total += len(value)\n",
        "    return total"
      ],
      "metadata": {
        "id": "B35aNBmhPfn6"
      },
      "execution_count": 123,
      "outputs": []
    },
    {
      "cell_type": "code",
      "source": [
        "# grafo principal\n",
        "map = createKeys(intersectionsAdList)\n",
        "joinIntersections(intersectionsAdList)\n",
        "#printDictionary(map)"
      ],
      "metadata": {
        "id": "rZ0K3Io2RT03"
      },
      "execution_count": 127,
      "outputs": []
    },
    {
      "cell_type": "markdown",
      "source": [
        "##**Agregar valores aleatorios**\n",
        "Agregar valores aleatorios al grafo principal (`map`). Los valores random fueron generados con Perlin Noise"
      ],
      "metadata": {
        "id": "-ZG6JQ2ifOrS"
      }
    },
    {
      "cell_type": "code",
      "source": [
        "def getGraphSize(graph):\n",
        "    return len(graph)"
      ],
      "metadata": {
        "id": "kBypqO76vt23"
      },
      "execution_count": 70,
      "outputs": []
    },
    {
      "cell_type": "code",
      "source": [
        "def perlinNoise():\n",
        "    # tamaño de cada de arreglo\n",
        "    xpix = 10\n",
        "    # cantidad de arreglos\n",
        "    ypix = getGraphSize(map)\n",
        "    noise = PerlinNoise(octaves=5, seed=1)\n",
        "    pic = [[noise([i/xpix, j/ypix]) for j in range(xpix)] for i in range(ypix)]\n",
        "\n",
        "    return np.array(np.array(pic)*100, dtype=int)\n",
        "\n",
        "randValues = perlinNoise()"
      ],
      "metadata": {
        "id": "-3SW4_Ujrnck"
      },
      "execution_count": 151,
      "outputs": []
    },
    {
      "cell_type": "code",
      "source": [
        "def sameNode(n1, n2):\n",
        "    x1, y1 = n1\n",
        "    x2, y2 = n2\n",
        "\n",
        "    if (x1 == y2) and (y1 == x2):\n",
        "        return True\n",
        "    return False"
      ],
      "metadata": {
        "id": "-XikbU4tT_nd"
      },
      "execution_count": 140,
      "outputs": []
    },
    {
      "cell_type": "code",
      "source": [
        "def getListRandValues(n):\n",
        "    r = random.randrange(0, n)\n",
        "    \n",
        "    while sum(randValues[r]) == 0:\n",
        "        r = random.randrange(0, n)\n",
        "\n",
        "    return list(randValues[r])"
      ],
      "metadata": {
        "id": "CZvUIaoJDY7w"
      },
      "execution_count": 141,
      "outputs": []
    },
    {
      "cell_type": "code",
      "source": [
        "def getPositive(num):\n",
        "    if num < 0:\n",
        "        return num * -1\n",
        "    else:\n",
        "        return num"
      ],
      "metadata": {
        "id": "HllBWXD9oIoY"
      },
      "execution_count": 137,
      "outputs": []
    },
    {
      "cell_type": "code",
      "source": [
        "# agrega un valor random (generado con perlin noise) al diccionario de lat y longs\n",
        "def addRandValue(dictionary):\n",
        "\n",
        "    randv = getListRandValues(len(latlong))\n",
        "\n",
        "    for key, value in map.items():\n",
        "        l = []\n",
        "        for u in value:\n",
        "            if sameNode(key, u):\n",
        "                u += (0,)      \n",
        "                l.append(u)\n",
        "                continue\n",
        "\n",
        "            if len(randv) > 0:\n",
        "                u += (getPositive(randv.pop()),)\n",
        "            else:\n",
        "                randv = getListRandValues(len(latlong))\n",
        "                u += (getPositive(randv.pop()),)\n",
        "            l.append(u)\n",
        "        dictionary[key] = l\n",
        "    return dictionary\n",
        "    \n",
        "m = addRandValue({})"
      ],
      "metadata": {
        "id": "mTU94o9rqj7R"
      },
      "execution_count": null,
      "outputs": []
    },
    {
      "cell_type": "markdown",
      "source": [
        "##**Diccionario de Latitudes y Longitudes para cada intersección**"
      ],
      "metadata": {
        "id": "ZaJHYPk9cw41"
      }
    },
    {
      "cell_type": "code",
      "source": [
        "def formatearLatitudeorLongitude(input):\n",
        "    separar = input\n",
        "    separar = separar.split(\".\");\n",
        "\n",
        "    union= separar[0]+\".\"+separar[1]+separar[2];\n",
        "    variable_float = float(union)\n",
        "\n",
        "    return variable_float"
      ],
      "metadata": {
        "id": "xyOaIL8JORiw"
      },
      "execution_count": 17,
      "outputs": []
    },
    {
      "cell_type": "code",
      "source": [
        "def createLatLongDictionary(latlong):\n",
        "    with open(\"Latitud y Longitud de calles.csv\") as file: \n",
        "        reader = csv.reader(file)      \n",
        "        # ignora el header (la 1era fila del csv)\n",
        "        next(reader)\n",
        "        for row in reader:\n",
        "            # busco el id de la calle en mi diccionario de calles \n",
        "            intersection = streetExists(row[0]), streetExists(row[1])\n",
        "            if intersection in map:\n",
        "                latlong[intersection] = formatearLatitudeorLongitude(row[2]), formatearLatitudeorLongitude(row[3])\n",
        "    return latlong\n",
        "      \n",
        "latlong = createLatLongDictionary({})"
      ],
      "metadata": {
        "id": "cC3C0s5FcwJV"
      },
      "execution_count": 94,
      "outputs": []
    },
    {
      "cell_type": "markdown",
      "source": [
        "##**Escribir archivos**"
      ],
      "metadata": {
        "id": "RGur0l6rdqAS"
      }
    },
    {
      "cell_type": "code",
      "source": [
        "def writeNodes():\n",
        "    with open(\"nodes.txt\", \"w\") as f:\n",
        "        with open('Calles de San Martín de Porres.csv') as file: \n",
        "            reader = csv.reader(file)\n",
        "\n",
        "            for row in reader:\n",
        "                for i in range(1, len(row)):                    \n",
        "                    f.write(f\"{row[0]}, {row[i]}\\n\")\n",
        "writeNodes()"
      ],
      "metadata": {
        "id": "E_-CDP5DXzNX"
      },
      "execution_count": null,
      "outputs": []
    },
    {
      "cell_type": "code",
      "source": [
        "# Streets Dictionary\n",
        "def writeStreetsDictionary():\n",
        "    with open(\"streetNames.txt\", \"w\") as f:\n",
        "        for key, value in streetsDictionary.items():\n",
        "            f.write(key + \"\\n\")\n",
        "writeStreetsDictionary()"
      ],
      "metadata": {
        "id": "SE4BMbtDdoFl"
      },
      "execution_count": null,
      "outputs": []
    },
    {
      "cell_type": "code",
      "source": [
        "# Intersections Adjacency List\n",
        "def writeStreetsAdList():\n",
        "    with open(\"streetsAdList.txt\", \"w\") as f:\n",
        "        for streets in intersectionsAdList:\n",
        "            for i in range(len(streets)):\n",
        "                streets[i] = str(streets[i])    \n",
        "            f.write(', '.join(streets) + \"\\n\")        \n",
        "writeStreetsAdList()"
      ],
      "metadata": {
        "id": "gOBUCQUcl5Ay"
      },
      "execution_count": null,
      "outputs": []
    },
    {
      "cell_type": "code",
      "source": [
        "# Write street map\n",
        "def writeStreetMap():\n",
        "    with open(\"map.txt\", \"w\") as f:  \n",
        "        for key, value in map.items():\n",
        "            listWOCommas = (str(value).strip('[]')).replace(\",\", \"\")\n",
        "            f.write(str(key) + \" \" + listWOCommas + '\\n')\n",
        "writeStreetMap()"
      ],
      "metadata": {
        "id": "wQy0a94GsHFk"
      },
      "execution_count": null,
      "outputs": []
    },
    {
      "cell_type": "markdown",
      "source": [
        "##**Aristas**"
      ],
      "metadata": {
        "id": "rxtXFDrBSOma"
      }
    },
    {
      "cell_type": "code",
      "source": [
        "# devuelve el tiempo actual automáticamente\n",
        "def getCurrentTime():\n",
        "\n",
        "    now = datetime.now()\n",
        "    time = now.strftime(\"%H %p\")\n",
        "    time = time.split(\" \")\n",
        "\n",
        "    # convierto la hora a la timezone de Perú\n",
        "    if time[0] <= \"5\":\n",
        "        time[0] = 24 - (5 - int(time[0]))\n",
        "    else:\n",
        "        time[0] = int(time[0]) - 5\n",
        "    \n",
        "    return str(time[0])\n",
        "\n",
        "def askTime():\n",
        "    time = input(\"Digite la hora en formato de 24hrs: \");\n",
        "    if int(time) not in range(0, 24):\n",
        "        time = askTime() \n",
        "    return time"
      ],
      "metadata": {
        "id": "Erj9KyTfVgbd"
      },
      "execution_count": null,
      "outputs": []
    },
    {
      "cell_type": "code",
      "source": [
        "def getlongitude(n1, n2):\n",
        "    lon1,lat1=n1\n",
        "    lon2,lat2=n2\n",
        "    if lon1 == lat2 and lon2 == lat1:\n",
        "      longitude = 0\n",
        "    else:\n",
        "      lon1 = radians(lon1)\n",
        "      lon2 = radians(lon2)\n",
        "      lat1 = radians(lat1)\n",
        "      lat2 = radians(lat2)\n",
        "      dlon = lon2 - lon1\n",
        "      dlat = lat2 - lat1\n",
        "      a = sin(dlat / 2)**2 + cos(lat1) * cos(lat2) * sin(dlon / 2)**2\n",
        "      c = 2 * asin(sqrt(a)) \n",
        "      r = 6371\n",
        "      longitude = c * r\n",
        "    \n",
        "    return longitude"
      ],
      "metadata": {
        "id": "ROBaiwsgb3RA"
      },
      "execution_count": 20,
      "outputs": []
    },
    {
      "cell_type": "code",
      "source": [
        "def getFactor(time):\n",
        "    factor = 0\n",
        "    traffic_diccionary={\n",
        "        \"poco_trafico\": 2,\n",
        "        \"trafico_promedio\":4,\n",
        "        \"mucho_trafico\":8\n",
        "    }\n",
        "    traffic_time = int(time)\n",
        "    if(traffic_time in range (0,6) or traffic_time in range (19,25) ):\n",
        "       factor = traffic_diccionary[\"poco_trafico\"];\n",
        "\n",
        "    elif(traffic_time in range (12,19)):\n",
        "        factor = traffic_diccionary[\"trafico_promedio\"];\n",
        "\n",
        "    elif(traffic_time in range (6,10) or traffic_time in range (9,12)):\n",
        "          factor = traffic_diccionary[\"mucho_trafico\"];\n",
        "\n",
        "    return factor;"
      ],
      "metadata": {
        "id": "usee11payO7N"
      },
      "execution_count": null,
      "outputs": []
    },
    {
      "cell_type": "code",
      "source": [
        "def getFactor(time, val):\n",
        "    \n",
        "    factor = 0\n",
        "    #Puntajes van de 0 - 20\n",
        "    \n",
        "    # Puntaje de 0 - 5am\n",
        "    if time in range(0, 6):\n",
        "        for i in range(1, 3):\n",
        "            print(val / i)\n",
        "\n",
        "    # Puntaje de 6 - 10am\n",
        "    if time in range(6, 11):\n",
        "        range(13, 17)\n",
        "\n",
        "    # Puntaje de 11 - 3pm\n",
        "    if time in range(11, 16):\n",
        "        range(3, 6)\n",
        "\n",
        "    # Puntaje de 4 - 5pm\n",
        "    if time in range(16, 18):\n",
        "        range(10, 13)\n",
        "\n",
        "    # Puntaje de 6 - 8pm\n",
        "    if time in range(18, 21):\n",
        "        range(17, 21)\n",
        "\n",
        "    # Puntaje de 9 - 12pm\n",
        "    if time in range(21, 25):\n",
        "        range(6, 10)\n",
        "    \n",
        "    return factor"
      ],
      "metadata": {
        "id": "cHcovThSvPoR"
      },
      "execution_count": null,
      "outputs": []
    },
    {
      "cell_type": "code",
      "source": [
        "def calculateWeight(n1, n2, time, val):\n",
        "    \n",
        "    longitude = getlongitude(n1, n2) * 100\n",
        "    factor = getFactor(time)\n",
        "    \n",
        "    longdifference = 100 - longitude\n",
        "    longPoints = longitude + ((longdifference * longitude) / 100)\n",
        "\n",
        "    weight = 0\n",
        "    if longitude > 0:\n",
        "        weight = round(factor + longitude, 2)\n",
        "    \n",
        "    if (weight > 100):\n",
        "        return 99\n",
        "    else:\n",
        "        return weight"
      ],
      "metadata": {
        "id": "H4mEZNHBbe_g"
      },
      "execution_count": null,
      "outputs": []
    },
    {
      "cell_type": "code",
      "source": [
        "# el nuevo grafo será un diccionario, donde cada \"key\" contiene 1 arreglo de arreglos\n",
        "# cada arreglo dentro del principal, tiene solo 2 posiciones\n",
        "# 1era posición del arreglo: 1 tuple de intersecciones\n",
        "# 2da posición del arreglo: peso de la arista con respecto al valor de la \"key\"\n",
        "\n",
        "def updateGraph():\n",
        "    time = askTime()\n",
        "\n",
        "    # map con pesos\n",
        "    mapW = {}\n",
        "    i = 0\n",
        "    j = 0\n",
        "    for key in map:\n",
        "        mapW[key] = []\n",
        "        for arista in map[key]:\n",
        "            val = valores[i][j]\n",
        "            if key in latlong and arista in latlong:\n",
        "                weight = calculateWeight(latlong[key], latlong[arista], time, val)\n",
        "                mapW[key].append([arista, weight])\n",
        "            j += 1\n",
        "        j = 0\n",
        "        i += 1\n",
        "    return mapW\n",
        "\n",
        "printDictionary(updateGraph())"
      ],
      "metadata": {
        "id": "B6zdJ6h98DzB"
      },
      "execution_count": null,
      "outputs": []
    }
  ]
}
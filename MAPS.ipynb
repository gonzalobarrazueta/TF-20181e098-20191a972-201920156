{
  "nbformat": 4,
  "nbformat_minor": 0,
  "metadata": {
    "colab": {
      "name": "MAPS.ipynb",
      "provenance": [],
      "collapsed_sections": [
        "F1p7UhsvkRNT",
        "J0b-KrPix_58",
        "rxPsDAM35t5d",
        "ZaJHYPk9cw41",
        "RGur0l6rdqAS"
      ],
      "authorship_tag": "ABX9TyMxz3+xjJbs0ZZ4E0dFewo6",
      "include_colab_link": true
    },
    "kernelspec": {
      "name": "python3",
      "display_name": "Python 3"
    },
    "language_info": {
      "name": "python"
    }
  },
  "cells": [
    {
      "cell_type": "markdown",
      "metadata": {
        "id": "view-in-github",
        "colab_type": "text"
      },
      "source": [
        "<a href=\"https://colab.research.google.com/github/gonzalobarrazueta/TF-20181e098-20191a972-201920156/blob/main/MAPS.ipynb\" target=\"_parent\"><img src=\"https://colab.research.google.com/assets/colab-badge.svg\" alt=\"Open In Colab\"/></a>"
      ]
    },
    {
      "cell_type": "markdown",
      "source": [
        "##**Diccionario de calles**\n",
        "Crea un diccionario donde cada nombre de calle ***(key)*** tiene asignado un `id` ***(value)***"
      ],
      "metadata": {
        "id": "F1p7UhsvkRNT"
      }
    },
    {
      "cell_type": "code",
      "source": [
        "import csv\n",
        "import json"
      ],
      "metadata": {
        "id": "UTrneN9hkUIW"
      },
      "execution_count": 1,
      "outputs": []
    },
    {
      "cell_type": "code",
      "source": [
        "def addKey_Values(dictionary, key, value):\n",
        "    dictionary[key] = value"
      ],
      "metadata": {
        "id": "qvn_alN-9gkk"
      },
      "execution_count": 2,
      "outputs": []
    },
    {
      "cell_type": "code",
      "source": [
        "def printDictionary(dictionary):\n",
        "    streets_pretty = json.dumps(dictionary, indent=2)\n",
        "    print(streets_pretty)"
      ],
      "metadata": {
        "id": "LE5QHCb5pbNy"
      },
      "execution_count": 3,
      "outputs": []
    },
    {
      "cell_type": "code",
      "source": [
        "def cargarDatos(dictionary):\n",
        "    with open('Calles de San Martín de Porres.csv') as file: \n",
        "        reader = csv.reader(file)\n",
        "        \n",
        "        for id, row in enumerate(reader):\n",
        "            addKey_Values(dictionary, row[0].lower(), id)"
      ],
      "metadata": {
        "id": "aBWrVHPpFxBC"
      },
      "execution_count": 4,
      "outputs": []
    },
    {
      "cell_type": "code",
      "source": [
        "def createStreetsDictionary():   \n",
        "    streets = {}\n",
        "    cargarDatos(streets)\n",
        "\n",
        "    return streets"
      ],
      "metadata": {
        "id": "HQAcMl46rQlA"
      },
      "execution_count": 5,
      "outputs": []
    },
    {
      "cell_type": "code",
      "source": [
        "streetsDictionary = createStreetsDictionary()"
      ],
      "metadata": {
        "id": "KjmA0jq_Im3f"
      },
      "execution_count": 6,
      "outputs": []
    },
    {
      "cell_type": "markdown",
      "source": [
        "##**Lista de Adyacencia de calles y sus intersecciones**\n",
        "\n",
        "\n"
      ],
      "metadata": {
        "id": "J0b-KrPix_58"
      }
    },
    {
      "cell_type": "code",
      "source": [
        "def streetExists(streetName):\n",
        "    if streetName in streetsDictionary:\n",
        "        id = streetsDictionary[streetName]\n",
        "    else:\n",
        "        id = -1 # la calle no está mapeada\n",
        "    return id"
      ],
      "metadata": {
        "id": "5hBrXQFU4geG"
      },
      "execution_count": 7,
      "outputs": []
    },
    {
      "cell_type": "code",
      "source": [
        "def printAdList(graph): \n",
        "    for i, intersection in enumerate(graph):\n",
        "        print(i, intersection)\n",
        "    \n",
        "    print(f\"Cantidad de vértices = {len(graph)}\")"
      ],
      "metadata": {
        "id": "Gaop7miPqVSA"
      },
      "execution_count": 8,
      "outputs": []
    },
    {
      "cell_type": "code",
      "source": [
        "# adjacencyList: arreglo de arreglos, donde la pos del primer elemento (1er arreglo)\n",
        "# es la calle y el arreglo son todas las calles con las que se intersecta\n",
        "def createAdjacencyList(adjacencyList):\n",
        "    with open('Calles de San Martín de Porres.csv') as file: \n",
        "        reader = csv.reader(file)\n",
        "        for row in reader:  \n",
        "            intersections = []\n",
        "            for i in range(len(row)):\n",
        "                if i != 0:\n",
        "                    intersections.append(streetExists(row[i].lower()))\n",
        "            adjacencyList.append(intersections)\n",
        "\n",
        "    return adjacencyList"
      ],
      "metadata": {
        "id": "ZTtbPcxvVxvy"
      },
      "execution_count": 9,
      "outputs": []
    },
    {
      "cell_type": "code",
      "source": [
        "# creal la lista de adyacencia\n",
        "intersectionsAdList = createAdjacencyList([])"
      ],
      "metadata": {
        "id": "jdBc97CMMN2v"
      },
      "execution_count": 10,
      "outputs": []
    },
    {
      "cell_type": "markdown",
      "source": [
        "##**Lista de Adyacencia de intersecciones**"
      ],
      "metadata": {
        "id": "rxPsDAM35t5d"
      }
    },
    {
      "cell_type": "code",
      "source": [
        "def createKeys(graph):\n",
        "    intersectionsIDs = {}\n",
        "\n",
        "    for i in range(len(graph)):\n",
        "        for street in graph[i]:\n",
        "            # si las keys aún no han sido creadas, las agrega al diccionario\n",
        "            if (i, street) not in intersectionsIDs and street != -1:\n",
        "                intersectionsIDs[(i, street)] = []\n",
        "\n",
        "    return intersectionsIDs"
      ],
      "metadata": {
        "id": "LCoD5Unynb4n"
      },
      "execution_count": 11,
      "outputs": []
    },
    {
      "cell_type": "code",
      "source": [
        "def addIntersections(graph, i, j):  \n",
        "    street = graph[i][j]\n",
        "\n",
        "    if street != -1:\n",
        "        # agrego la intersección már próxima hacia la izquierda\n",
        "        if j > 0 and graph[i][j - 1] != -1:\n",
        "            tup = (i, graph[i][j - 1])\n",
        "            map[(i, street)].append(tup)\n",
        "\n",
        "        # agrego la intersección már próxima hacia la derecha\n",
        "        if j < len(graph[i]) - 1 and graph[i][j + 1] != -1:\n",
        "            tup = (i, graph[i][j + 1])\n",
        "            map[(i, street)].append(tup)"
      ],
      "metadata": {
        "id": "1qBKJ3lsAg2O"
      },
      "execution_count": 12,
      "outputs": []
    },
    {
      "cell_type": "code",
      "source": [
        "def addIntersectionsReversed(graph, i, j):  \n",
        "    street = graph[i][j]\n",
        "\n",
        "    # ahora voy al reverso de la lista\n",
        "    if i != -1 and street != -1:\n",
        "        if (street < len(graph)) and (i in graph[street]):\n",
        "            tup = (street, i)\n",
        "            map[(i, street)].append(tup)\n",
        "            \n",
        "            k = graph[street].index(i) # k = 2\n",
        "\n",
        "            if k > 0 and graph[street][k - 1] != -1:\n",
        "                tup = (street, graph[street][k - 1])\n",
        "                map[(i, street)].append(tup)\n",
        "        \n",
        "            if k < len(graph[street]) - 1 and graph[street][k + 1] != -1:\n",
        "                tup = (street, graph[street][k + 1])\n",
        "                map[(i, street)].append(tup)"
      ],
      "metadata": {
        "id": "S9CGv6Fy-CN9"
      },
      "execution_count": 13,
      "outputs": []
    },
    {
      "cell_type": "code",
      "source": [
        "def joinIntersections(graph):\n",
        "    n = len(graph)\n",
        "    for i in range(n):        \n",
        "        for j in range(len(graph[i])):\n",
        "            addIntersections(graph, i, j)\n",
        "            addIntersectionsReversed(graph, i, j)"
      ],
      "metadata": {
        "id": "kZCXXHwk50Ho"
      },
      "execution_count": 14,
      "outputs": []
    },
    {
      "cell_type": "code",
      "source": [
        "# calcula el total de nodos solo par el grafo \"map\"\n",
        "def totalNodes(graph):\n",
        "    total = 0 \n",
        "    for key, value in graph.items():\n",
        "        total += len(value)\n",
        "    return total"
      ],
      "metadata": {
        "id": "B35aNBmhPfn6"
      },
      "execution_count": 15,
      "outputs": []
    },
    {
      "cell_type": "code",
      "source": [
        "# grafo principal\n",
        "map = createKeys(intersectionsAdList)\n",
        "joinIntersections(intersectionsAdList)\n",
        "print(f\"Cantidad de nodos: {totalNodes(map)}\")"
      ],
      "metadata": {
        "id": "rZ0K3Io2RT03"
      },
      "execution_count": null,
      "outputs": []
    },
    {
      "cell_type": "markdown",
      "source": [
        "##**Diccionario de Latitudes y Longitudes para cada intersección**"
      ],
      "metadata": {
        "id": "ZaJHYPk9cw41"
      }
    },
    {
      "cell_type": "code",
      "source": [
        "def formatearLatitudeorLongitude(input):\n",
        "    separar = input\n",
        "    separar = separar.split(\".\");\n",
        "\n",
        "    union= separar[0]+\".\"+separar[1]+separar[2];\n",
        "    variable_float = float(union)\n",
        "\n",
        "    return variable_float"
      ],
      "metadata": {
        "id": "xyOaIL8JORiw"
      },
      "execution_count": 17,
      "outputs": []
    },
    {
      "cell_type": "code",
      "source": [
        "def createLatLongDictionary(latlong):\n",
        "    with open(\"Latitud y Longitud de calles.csv\") as file: \n",
        "        reader = csv.reader(file)      \n",
        "        # ignora el header (la 1era fila del csv)\n",
        "        next(reader)\n",
        "        for row in reader:\n",
        "            # busco el id de la calle en mi diccionario de calles \n",
        "            intersection = streetExists(row[0]), streetExists(row[1])\n",
        "            if intersection in map:\n",
        "                latlong[intersection] = formatearLatitudeorLongitude(row[2]), formatearLatitudeorLongitude(row[3])\n",
        "    return latlong\n",
        "      \n",
        "latlong = createLatLongDictionary({})"
      ],
      "metadata": {
        "id": "cC3C0s5FcwJV"
      },
      "execution_count": null,
      "outputs": []
    },
    {
      "cell_type": "markdown",
      "source": [
        "##**Escribir archivos**"
      ],
      "metadata": {
        "id": "RGur0l6rdqAS"
      }
    },
    {
      "cell_type": "code",
      "source": [
        "def writeNodes():\n",
        "    with open(\"nodes.txt\", \"w\") as f:\n",
        "        with open('Calles de San Martín de Porres.csv') as file: \n",
        "            reader = csv.reader(file)\n",
        "\n",
        "            for row in reader:\n",
        "                for i in range(1, len(row)):                    \n",
        "                    f.write(f\"{row[0]}, {row[i]}\\n\")\n",
        "writeNodes()"
      ],
      "metadata": {
        "id": "E_-CDP5DXzNX"
      },
      "execution_count": 19,
      "outputs": []
    },
    {
      "cell_type": "code",
      "source": [
        "# Streets Dictionary\n",
        "def writeStreetsDictionary():\n",
        "    with open(\"streetNames.txt\", \"w\") as f:\n",
        "        for key, value in streetsDictionary.items():\n",
        "            f.write(key + \"\\n\")\n",
        "writeStreetsDictionary()"
      ],
      "metadata": {
        "id": "SE4BMbtDdoFl"
      },
      "execution_count": 20,
      "outputs": []
    },
    {
      "cell_type": "code",
      "source": [
        "# Intersections Adjacency List\n",
        "def writeStreetsAdList():\n",
        "    with open(\"streetsAdList.txt\", \"w\") as f:\n",
        "        for streets in intersectionsAdList:\n",
        "            for i in range(len(streets)):\n",
        "                streets[i] = str(streets[i])    \n",
        "            f.write(', '.join(streets) + \"\\n\")        \n",
        "writeStreetsAdList()"
      ],
      "metadata": {
        "id": "gOBUCQUcl5Ay"
      },
      "execution_count": 21,
      "outputs": []
    },
    {
      "cell_type": "code",
      "source": [
        "# Write street map\n",
        "def writeStreetMap():\n",
        "    with open(\"map.txt\", \"w\") as f:  \n",
        "        for key, value in map.items():\n",
        "            listWOCommas = (str(value).strip('[]')).replace(\",\", \"\")\n",
        "            f.write(str(key) + \" \" + listWOCommas + '\\n')\n",
        "writeStreetMap()"
      ],
      "metadata": {
        "id": "wQy0a94GsHFk"
      },
      "execution_count": 22,
      "outputs": []
    },
    {
      "cell_type": "markdown",
      "source": [
        "##**Aristas**"
      ],
      "metadata": {
        "id": "rxtXFDrBSOma"
      }
    },
    {
      "cell_type": "code",
      "source": [
        "def printMap(g):\n",
        "    for k, v in g.items():\n",
        "        print(f\"{k}: {v}\")"
      ],
      "metadata": {
        "id": "PnYygPuUB1Ds"
      },
      "execution_count": 24,
      "outputs": []
    },
    {
      "cell_type": "code",
      "source": [
        "from datetime import datetime\n",
        "from math import radians, cos, sin, asin, sqrt"
      ],
      "metadata": {
        "id": "jaLV53jjXGkF"
      },
      "execution_count": 25,
      "outputs": []
    },
    {
      "cell_type": "code",
      "source": [
        "# devuelve el tiempo actual automáticamente\n",
        "def getCurrentTime():\n",
        "\n",
        "    now = datetime.now()\n",
        "    time = now.strftime(\"%H %p\")\n",
        "    time = time.split(\" \")\n",
        "\n",
        "    # convierto la hora a la timezone de Perú\n",
        "    if time[0] <= \"5\":\n",
        "        time[0] = 24 - (5 - int(time[0]))\n",
        "    else:\n",
        "        time[0] = int(time[0]) - 5\n",
        "    \n",
        "    return str(time[0])"
      ],
      "metadata": {
        "id": "Erj9KyTfVgbd"
      },
      "execution_count": 26,
      "outputs": []
    },
    {
      "cell_type": "code",
      "source": [
        "def askTime():\n",
        "    time = input(\"Digite la hora en formato de 24hrs: \");\n",
        "    if int(time) not in range(0, 24):\n",
        "        time = askTime() \n",
        "    return time"
      ],
      "metadata": {
        "id": "EQdcfmqrhTST"
      },
      "execution_count": 27,
      "outputs": []
    },
    {
      "cell_type": "code",
      "source": [
        "def getlongitude(n1, n2):\n",
        "    lon1,lat1=n1\n",
        "    lon2,lat2=n2\n",
        "    if lon1 == lat2 and lon2 == lat1:\n",
        "      longitude = 0\n",
        "    else:\n",
        "      lon1 = radians(lon1)\n",
        "      lon2 = radians(lon2)\n",
        "      lat1 = radians(lat1)\n",
        "      lat2 = radians(lat2)\n",
        "      dlon = lon2 - lon1\n",
        "      dlat = lat2 - lat1\n",
        "      a = sin(dlat / 2)**2 + cos(lat1) * cos(lat2) * sin(dlon / 2)**2\n",
        "      c = 2 * asin(sqrt(a)) \n",
        "      r = 6371\n",
        "      longitude = c * r\n",
        "    \n",
        "    return longitude"
      ],
      "metadata": {
        "id": "ROBaiwsgb3RA"
      },
      "execution_count": 28,
      "outputs": []
    },
    {
      "cell_type": "code",
      "source": [
        "def getFactor(time):\n",
        "    factor = 0\n",
        "    traffic_diccionary={\n",
        "        \"poco_trafico\": 2,\n",
        "        \"trafico_promedio\":4,\n",
        "        \"mucho_trafico\":8\n",
        "    }\n",
        "    traffic_time = int(time)\n",
        "    if(traffic_time in range (0,6) or traffic_time in range (19,25) ):\n",
        "       factor = traffic_diccionary[\"poco_trafico\"];\n",
        "\n",
        "    elif(traffic_time in range (12,19)):\n",
        "        factor = traffic_diccionary[\"trafico_promedio\"];\n",
        "\n",
        "    elif(traffic_time in range (6,10) or traffic_time in range (9,12)):\n",
        "          factor = traffic_diccionary[\"mucho_trafico\"];\n",
        "\n",
        "    return factor;"
      ],
      "metadata": {
        "id": "usee11payO7N"
      },
      "execution_count": 29,
      "outputs": []
    },
    {
      "cell_type": "code",
      "source": [
        "def calculateWeight(n1, n2, time):\n",
        "    \n",
        "    longitude = getlongitude(n1, n2) * 100\n",
        "    \n",
        "    factor = getFactor(time)\n",
        "    \n",
        "    longdifference = 100 - longitude\n",
        "    longPoints = longitude + ((longdifference * longitude) / 100)\n",
        "\n",
        "    weight = 0\n",
        "    if longitude > 0:\n",
        "        weight = round(factor + longitude, 2)\n",
        "    \n",
        "    if (weight > 100):\n",
        "        return 99\n",
        "    else:\n",
        "        return weight"
      ],
      "metadata": {
        "id": "H4mEZNHBbe_g"
      },
      "execution_count": 30,
      "outputs": []
    },
    {
      "cell_type": "code",
      "source": [
        "# el nuevo grafo será un diccionario, donde cada \"key\" contiene 1 arreglo de arreglos\n",
        "# cada arreglo dentro del principal, tiene solo 2 posiciones\n",
        "# 1era posición del arreglo: 1 tuple de intersecciones\n",
        "# 2da posición del arreglo: peso de la arista con respecto al valor de la \"key\"\n",
        "\n",
        "def updateGraph():\n",
        "    time = askTime()\n",
        "\n",
        "    # map con pesos\n",
        "    mapW = {}\n",
        "    for key in map:\n",
        "        mapW[key] = []\n",
        "        for arista in map[key]:\n",
        "            if key in latlong and arista in latlong:\n",
        "                weight = calculateWeight(latlong[key], latlong[arista], time)\n",
        "                mapW[key].append([arista, weight])\n",
        "    return mapW"
      ],
      "metadata": {
        "id": "B6zdJ6h98DzB"
      },
      "execution_count": 36,
      "outputs": []
    },
    {
      "cell_type": "markdown",
      "source": [
        "###**Perlin Noise**"
      ],
      "metadata": {
        "id": "cze2NwyYhIIz"
      }
    },
    {
      "cell_type": "code",
      "source": [
        "!pip install perlin_noise"
      ],
      "metadata": {
        "id": "aQl1Q6Yzrsku"
      },
      "execution_count": null,
      "outputs": []
    },
    {
      "cell_type": "code",
      "source": [
        "import matplotlib.pyplot as plt\n",
        "import numpy as np\n",
        "from perlin_noise import PerlinNoise"
      ],
      "metadata": {
        "id": "_QHQDZUsr0Wm"
      },
      "execution_count": 37,
      "outputs": []
    },
    {
      "cell_type": "code",
      "source": [
        "def getGraphSize(graph):\n",
        "    return len(graph)"
      ],
      "metadata": {
        "id": "kBypqO76vt23"
      },
      "execution_count": 65,
      "outputs": []
    },
    {
      "cell_type": "code",
      "source": [
        "def perlinNoise():\n",
        "    # tamaño de cada de arreglo\n",
        "    xpix = 25\n",
        "    # cantidad de arreglos\n",
        "    ypix = getGraphSize(map)\n",
        "    noise = PerlinNoise(octaves=5, seed=1)\n",
        "    pic = [[noise([i/xpix, j/ypix]) for j in range(xpix)] for i in range(ypix)]\n",
        "\n",
        "    return np.array(np.array(pic)*100, dtype=int)\n",
        "\n",
        "valores = perlinNoise()\n",
        "\n",
        "print(len(valores))\n",
        "print(len(valores[0]))\n",
        "\n",
        "for a in valores:\n",
        "    print(a)"
      ],
      "metadata": {
        "id": "-3SW4_Ujrnck"
      },
      "execution_count": null,
      "outputs": []
    }
  ]
}
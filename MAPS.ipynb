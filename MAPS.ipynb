{
  "nbformat": 4,
  "nbformat_minor": 0,
  "metadata": {
    "colab": {
      "name": "MAPS.ipynb",
      "provenance": [],
      "collapsed_sections": [
        "rdPNXFH5essP",
        "F1p7UhsvkRNT",
        "J0b-KrPix_58",
        "rxPsDAM35t5d",
        "ZaJHYPk9cw41",
        "RGur0l6rdqAS"
      ],
      "authorship_tag": "ABX9TyMF4B75uKVw9v4AlX9L9j9Y",
      "include_colab_link": true
    },
    "kernelspec": {
      "name": "python3",
      "display_name": "Python 3"
    },
    "language_info": {
      "name": "python"
    }
  },
  "cells": [
    {
      "cell_type": "markdown",
      "metadata": {
        "id": "view-in-github",
        "colab_type": "text"
      },
      "source": [
        "<a href=\"https://colab.research.google.com/github/gonzalobarrazueta/TF-20181e098-20191a972-201920156/blob/main/MAPS.ipynb\" target=\"_parent\"><img src=\"https://colab.research.google.com/assets/colab-badge.svg\" alt=\"Open In Colab\"/></a>"
      ]
    },
    {
      "cell_type": "markdown",
      "source": [
        "##**Imports**"
      ],
      "metadata": {
        "id": "rdPNXFH5essP"
      }
    },
    {
      "cell_type": "code",
      "source": [
        "# Perlin Noise\n",
        "!pip install perlin_noise\n",
        "import matplotlib.pyplot as plt\n",
        "import numpy as np\n",
        "from perlin_noise import PerlinNoise\n",
        "# ------------\n",
        "import csv\n",
        "import json\n",
        "# Sección Aristas\n",
        "from datetime import datetime\n",
        "from math import radians, cos, sin, asin, sqrt\n",
        "import random\n",
        "# Dijkstra/Priority Queue\n",
        "import heapq as hq\n",
        "import math\n",
        "# ------------\n",
        "import numpy as np\n",
        "import graphviz as gv #sirve para dibujar grafos"
      ],
      "metadata": {
        "id": "Ft_WMWjKegCO"
      },
      "execution_count": null,
      "outputs": []
    },
    {
      "cell_type": "markdown",
      "source": [
        "##**Diccionario de calles**\n",
        "Crea un diccionario donde cada nombre de calle ***(key)*** tiene asignado un `id` ***(value)***"
      ],
      "metadata": {
        "id": "F1p7UhsvkRNT"
      }
    },
    {
      "cell_type": "code",
      "source": [
        "def addKey_Values(dictionary, key, value):\n",
        "    dictionary[key] = value"
      ],
      "metadata": {
        "id": "qvn_alN-9gkk"
      },
      "execution_count": null,
      "outputs": []
    },
    {
      "cell_type": "code",
      "source": [
        "def printDictionary(dictionary):\n",
        "    for k, v in dictionary.items():\n",
        "        print(f\"{k}: {v}\")"
      ],
      "metadata": {
        "id": "LE5QHCb5pbNy"
      },
      "execution_count": null,
      "outputs": []
    },
    {
      "cell_type": "code",
      "source": [
        "def cargarDatos(dictionary):\n",
        "    with open('Calles de San Martín de Porres.csv') as file: \n",
        "        reader = csv.reader(file)\n",
        "        \n",
        "        for id, row in enumerate(reader):\n",
        "            addKey_Values(dictionary, row[0].lower(), id)"
      ],
      "metadata": {
        "id": "aBWrVHPpFxBC"
      },
      "execution_count": null,
      "outputs": []
    },
    {
      "cell_type": "code",
      "source": [
        "def createStreetsDictionary():   \n",
        "    streets = {}\n",
        "    cargarDatos(streets)\n",
        "    return streets"
      ],
      "metadata": {
        "id": "HQAcMl46rQlA"
      },
      "execution_count": null,
      "outputs": []
    },
    {
      "cell_type": "code",
      "source": [
        "streetsDictionary = createStreetsDictionary()"
      ],
      "metadata": {
        "id": "KjmA0jq_Im3f"
      },
      "execution_count": null,
      "outputs": []
    },
    {
      "cell_type": "markdown",
      "source": [
        "##**Lista de Adyacencia de calles y sus intersecciones**\n",
        "\n",
        "\n"
      ],
      "metadata": {
        "id": "J0b-KrPix_58"
      }
    },
    {
      "cell_type": "code",
      "source": [
        "def printAdList(graph): \n",
        "    for i, intersection in enumerate(graph):\n",
        "        print(i, intersection)\n",
        "    \n",
        "    print(f\"Cantidad de vértices = {len(graph)}\")"
      ],
      "metadata": {
        "id": "Gaop7miPqVSA"
      },
      "execution_count": null,
      "outputs": []
    },
    {
      "cell_type": "code",
      "source": [
        "def streetExists(streetName):\n",
        "    if streetName in streetsDictionary:\n",
        "        id = streetsDictionary[streetName]\n",
        "    else:\n",
        "        id = -1 # la calle no está mapeada\n",
        "    return id"
      ],
      "metadata": {
        "id": "5hBrXQFU4geG"
      },
      "execution_count": null,
      "outputs": []
    },
    {
      "cell_type": "code",
      "source": [
        "# adjacencyList: arreglo de arreglos, donde la pos del primer elemento (1er arreglo)\n",
        "# es la calle y el arreglo son todas las calles con las que se intersecta\n",
        "def createAdjacencyList(adjacencyList):\n",
        "    with open('Calles de San Martín de Porres.csv') as file: \n",
        "        reader = csv.reader(file)\n",
        "        for row in reader:  \n",
        "            intersections = []\n",
        "            for i in range(len(row)):\n",
        "                if i != 0:\n",
        "                    intersections.append(streetExists(row[i].lower()))\n",
        "            adjacencyList.append(intersections)\n",
        "\n",
        "    return adjacencyList"
      ],
      "metadata": {
        "id": "ZTtbPcxvVxvy"
      },
      "execution_count": null,
      "outputs": []
    },
    {
      "cell_type": "code",
      "source": [
        "# creal la lista de adyacencia\n",
        "intersectionsAdList = createAdjacencyList([])"
      ],
      "metadata": {
        "id": "jdBc97CMMN2v"
      },
      "execution_count": null,
      "outputs": []
    },
    {
      "cell_type": "markdown",
      "source": [
        "##**Lista de Adyacencia de intersecciones (Grafo Principal)**"
      ],
      "metadata": {
        "id": "rxPsDAM35t5d"
      }
    },
    {
      "cell_type": "code",
      "source": [
        "def createKeys(graph):\n",
        "    intersectionsIDs = {}\n",
        "\n",
        "    for i in range(len(graph)):\n",
        "        for street in graph[i]:\n",
        "            # si las keys aún no han sido creadas, las agrega al diccionario\n",
        "            if (i, street) not in intersectionsIDs and street != -1:\n",
        "                intersectionsIDs[(i, street)] = []\n",
        "\n",
        "    return intersectionsIDs"
      ],
      "metadata": {
        "id": "LCoD5Unynb4n"
      },
      "execution_count": null,
      "outputs": []
    },
    {
      "cell_type": "code",
      "source": [
        "def addIntersections(graph, i, j):  \n",
        "    street = graph[i][j]\n",
        "\n",
        "    if street != -1:\n",
        "        # agrego la intersección már próxima hacia la izquierda\n",
        "        if j > 0 and graph[i][j - 1] != -1:\n",
        "            tup = (i, graph[i][j - 1])\n",
        "            map[(i, street)].append(tup)\n",
        "\n",
        "        # agrego la intersección már próxima hacia la derecha\n",
        "        if j < len(graph[i]) - 1 and graph[i][j + 1] != -1:\n",
        "            tup = (i, graph[i][j + 1])\n",
        "            map[(i, street)].append(tup)"
      ],
      "metadata": {
        "id": "1qBKJ3lsAg2O"
      },
      "execution_count": null,
      "outputs": []
    },
    {
      "cell_type": "code",
      "source": [
        "def addIntersectionsReversed(graph, i, j):  \n",
        "    street = graph[i][j]\n",
        "\n",
        "    # ahora voy al reverso de la lista\n",
        "    if i != -1 and street != -1:\n",
        "        if (street < len(graph)) and (i in graph[street]):\n",
        "            tup = (street, i)\n",
        "            map[(i, street)].append(tup)\n",
        "            \n",
        "            k = graph[street].index(i) # k = 2\n",
        "\n",
        "            if k > 0 and graph[street][k - 1] != -1:\n",
        "                tup = (street, graph[street][k - 1])\n",
        "                map[(i, street)].append(tup)\n",
        "        \n",
        "            if k < len(graph[street]) - 1 and graph[street][k + 1] != -1:\n",
        "                tup = (street, graph[street][k + 1])\n",
        "                map[(i, street)].append(tup)"
      ],
      "metadata": {
        "id": "S9CGv6Fy-CN9"
      },
      "execution_count": null,
      "outputs": []
    },
    {
      "cell_type": "code",
      "source": [
        "def joinIntersections(graph):\n",
        "    n = len(graph)\n",
        "    for i in range(n):        \n",
        "        for j in range(len(graph[i])):\n",
        "            addIntersections(graph, i, j)\n",
        "            addIntersectionsReversed(graph, i, j)"
      ],
      "metadata": {
        "id": "kZCXXHwk50Ho"
      },
      "execution_count": null,
      "outputs": []
    },
    {
      "cell_type": "code",
      "source": [
        "# calcula el total de nodos solo par el grafo \"map\"\n",
        "def totalNodes(graph):\n",
        "    total = 0 \n",
        "    for key, value in graph.items():\n",
        "        total += len(value)\n",
        "    return total"
      ],
      "metadata": {
        "id": "B35aNBmhPfn6"
      },
      "execution_count": null,
      "outputs": []
    },
    {
      "cell_type": "code",
      "source": [
        "# grafo principal\n",
        "map = createKeys(intersectionsAdList)\n",
        "joinIntersections(intersectionsAdList)"
      ],
      "metadata": {
        "id": "rZ0K3Io2RT03"
      },
      "execution_count": null,
      "outputs": []
    },
    {
      "cell_type": "markdown",
      "source": [
        "##**Diccionario de Latitudes, Longitudes y `ids` para cada intersección**"
      ],
      "metadata": {
        "id": "ZaJHYPk9cw41"
      }
    },
    {
      "cell_type": "code",
      "source": [
        "def formatearLatitudeorLongitude(input):\n",
        "    separar = input\n",
        "    separar = separar.split(\".\");\n",
        "\n",
        "    union= separar[0]+\".\"+separar[1]+separar[2];\n",
        "    variable_float = float(union)\n",
        "\n",
        "    return variable_float"
      ],
      "metadata": {
        "id": "xyOaIL8JORiw"
      },
      "execution_count": null,
      "outputs": []
    },
    {
      "cell_type": "code",
      "source": [
        "# devuelve solo la latitud y longitud, no el id\n",
        "def getOnlyLatLong(key):\n",
        "    return (latlong[key][0], latlong[key][1])"
      ],
      "metadata": {
        "id": "_BXYBWwSO8XU"
      },
      "execution_count": null,
      "outputs": []
    },
    {
      "cell_type": "code",
      "source": [
        "def getInterId(key):\n",
        "    return latlong[key][2]"
      ],
      "metadata": {
        "id": "WZUSbZaDba-l"
      },
      "execution_count": null,
      "outputs": []
    },
    {
      "cell_type": "code",
      "source": [
        "def createLatLongDictionary(latlong):\n",
        "    with open(\"Latitud y Longitud de calles.csv\") as file: \n",
        "        reader = csv.reader(file)      \n",
        "        # ignora el header (la 1era fila del csv)\n",
        "        next(reader)\n",
        "        # se le asignará un id a cada vértice\n",
        "        id = 0\n",
        "        for row in reader:\n",
        "            # busco el id de la calle en mi diccionario de calles \n",
        "            intersection = streetExists(row[0]), streetExists(row[1])\n",
        "            if intersection in map:\n",
        "                latlong[intersection] = formatearLatitudeorLongitude(row[2]), formatearLatitudeorLongitude(row[3]), id\n",
        "                id += 1\n",
        "    return latlong"
      ],
      "metadata": {
        "id": "cC3C0s5FcwJV"
      },
      "execution_count": null,
      "outputs": []
    },
    {
      "cell_type": "code",
      "source": [
        "latlong = createLatLongDictionary({})"
      ],
      "metadata": {
        "id": "uZQqqGcK7xLY"
      },
      "execution_count": null,
      "outputs": []
    },
    {
      "cell_type": "markdown",
      "source": [
        "##**Agregar valores aleatorios**\n",
        "Agregar valores aleatorios al grafo principal (`map`). Los valores random fueron generados con Perlin Noise"
      ],
      "metadata": {
        "id": "-ZG6JQ2ifOrS"
      }
    },
    {
      "cell_type": "code",
      "source": [
        "def getGraphSize(graph):\n",
        "    return len(graph)"
      ],
      "metadata": {
        "id": "kBypqO76vt23"
      },
      "execution_count": null,
      "outputs": []
    },
    {
      "cell_type": "code",
      "source": [
        "def perlinNoise():\n",
        "    # tamaño de cada de arreglo\n",
        "    xpix = 10\n",
        "    # cantidad de arreglos\n",
        "    ypix = getGraphSize(map)\n",
        "    noise = PerlinNoise(octaves=5, seed=1)\n",
        "    pic = [[noise([i/xpix, j/ypix]) for j in range(xpix)] for i in range(ypix)]\n",
        "\n",
        "    return np.array(np.array(pic)*100, dtype=int)\n",
        "\n",
        "randValues = perlinNoise()"
      ],
      "metadata": {
        "id": "-3SW4_Ujrnck"
      },
      "execution_count": null,
      "outputs": []
    },
    {
      "cell_type": "code",
      "source": [
        "def sameNode(n1, n2):\n",
        "    x1, y1 = n1\n",
        "    x2, y2 = n2\n",
        "\n",
        "    if (x1 == y2) and (y1 == x2):\n",
        "        return True\n",
        "    return False"
      ],
      "metadata": {
        "id": "-XikbU4tT_nd"
      },
      "execution_count": null,
      "outputs": []
    },
    {
      "cell_type": "code",
      "source": [
        "def getListRandValues(n):\n",
        "    r = random.randrange(0, n)\n",
        "    \n",
        "    while sum(randValues[r]) == 0:\n",
        "        r = random.randrange(0, n)\n",
        "\n",
        "    return list(randValues[r])"
      ],
      "metadata": {
        "id": "CZvUIaoJDY7w"
      },
      "execution_count": null,
      "outputs": []
    },
    {
      "cell_type": "code",
      "source": [
        "def getPositive(num):\n",
        "    if num < 0:\n",
        "        return num * -1\n",
        "    else:\n",
        "        return num"
      ],
      "metadata": {
        "id": "HllBWXD9oIoY"
      },
      "execution_count": null,
      "outputs": []
    },
    {
      "cell_type": "code",
      "source": [
        "# agrega un valor random (generado con perlin noise) al diccionario de lat y longs\n",
        "def addRandValue(dictionary):\n",
        "\n",
        "    randv = getListRandValues(len(latlong))\n",
        "\n",
        "    for key, value in map.items():\n",
        "        l = []\n",
        "        for u in value:\n",
        "            if sameNode(key, u):\n",
        "                u += (0,)      \n",
        "                l.append(u)\n",
        "                continue\n",
        "\n",
        "            if len(randv) > 0:\n",
        "                u += (getPositive(randv.pop()),)\n",
        "            else:\n",
        "                randv = getListRandValues(len(latlong))\n",
        "                u += (getPositive(randv.pop()),)\n",
        "            l.append(u)\n",
        "        dictionary[key] = l\n",
        "    return dictionary\n",
        "    \n",
        "map2 = addRandValue({})"
      ],
      "metadata": {
        "id": "mTU94o9rqj7R"
      },
      "execution_count": null,
      "outputs": []
    },
    {
      "cell_type": "markdown",
      "source": [
        "##**Escribir archivos**"
      ],
      "metadata": {
        "id": "RGur0l6rdqAS"
      }
    },
    {
      "cell_type": "code",
      "source": [
        "def writeNodes():\n",
        "    with open(\"nodes.txt\", \"w\") as f:\n",
        "        with open('Calles de San Martín de Porres.csv') as file: \n",
        "            reader = csv.reader(file)\n",
        "\n",
        "            for row in reader:\n",
        "                for i in range(1, len(row)):                    \n",
        "                    f.write(f\"{row[0]}, {row[i]}\\n\")\n",
        "writeNodes()"
      ],
      "metadata": {
        "id": "E_-CDP5DXzNX"
      },
      "execution_count": null,
      "outputs": []
    },
    {
      "cell_type": "code",
      "source": [
        "# Streets Dictionary\n",
        "def writeStreetsDictionary():\n",
        "    with open(\"streetNames.txt\", \"w\") as f:\n",
        "        for key, value in streetsDictionary.items():\n",
        "            f.write(key + \"\\n\")\n",
        "writeStreetsDictionary()"
      ],
      "metadata": {
        "id": "SE4BMbtDdoFl"
      },
      "execution_count": null,
      "outputs": []
    },
    {
      "cell_type": "code",
      "source": [
        "# Intersections Adjacency List\n",
        "def writeStreetsAdList():\n",
        "    with open(\"streetsAdList.txt\", \"w\") as f:\n",
        "        for streets in intersectionsAdList:\n",
        "            for i in range(len(streets)):\n",
        "                streets[i] = str(streets[i])    \n",
        "            f.write(', '.join(streets) + \"\\n\")        \n",
        "writeStreetsAdList()"
      ],
      "metadata": {
        "id": "gOBUCQUcl5Ay"
      },
      "execution_count": null,
      "outputs": []
    },
    {
      "cell_type": "code",
      "source": [
        "# Write street map\n",
        "def writeStreetMap():\n",
        "    with open(\"map.txt\", \"w\") as f:  \n",
        "        for key, value in map.items():\n",
        "            listWOCommas = (str(value).strip('[]')).replace(\",\", \"\")\n",
        "            f.write(str(key) + \" \" + listWOCommas + '\\n')\n",
        "writeStreetMap()"
      ],
      "metadata": {
        "id": "wQy0a94GsHFk"
      },
      "execution_count": null,
      "outputs": []
    },
    {
      "cell_type": "markdown",
      "source": [
        "##**Aristas**"
      ],
      "metadata": {
        "id": "rxtXFDrBSOma"
      }
    },
    {
      "cell_type": "code",
      "source": [
        "# devuelve el tiempo actual automáticamente\n",
        "def getCurrentTime():\n",
        "\n",
        "    now = datetime.now()\n",
        "    time = now.strftime(\"%H %p\")\n",
        "    time = time.split(\" \")\n",
        "\n",
        "    # convierto la hora a la timezone de Perú\n",
        "    if time[0] <= \"5\":\n",
        "        time[0] = 24 - (5 - int(time[0]))\n",
        "    else:\n",
        "        time[0] = int(time[0]) - 5\n",
        "    \n",
        "    return str(time[0])\n",
        "\n",
        "def askTime():\n",
        "    time = int(input(\"Digite la hora en formato de 24hrs: \"));\n",
        "    if time not in range(0, 24):\n",
        "        time = askTime() \n",
        "    return time"
      ],
      "metadata": {
        "id": "Erj9KyTfVgbd"
      },
      "execution_count": null,
      "outputs": []
    },
    {
      "cell_type": "code",
      "source": [
        "def getlongitude(n1, n2):\n",
        "    lon1,lat1=n1\n",
        "    lon2,lat2=n2\n",
        "    if lon1 == lat2 and lon2 == lat1:\n",
        "      longitude = 0\n",
        "    else:\n",
        "      lon1 = radians(lon1)\n",
        "      lon2 = radians(lon2)\n",
        "      lat1 = radians(lat1)\n",
        "      lat2 = radians(lat2)\n",
        "      dlon = lon2 - lon1\n",
        "      dlat = lat2 - lat1\n",
        "      a = sin(dlat / 2)**2 + cos(lat1) * cos(lat2) * sin(dlon / 2)**2\n",
        "      c = 2 * asin(sqrt(a)) \n",
        "      r = 6371\n",
        "      longitude = c * r\n",
        "    \n",
        "    return longitude"
      ],
      "metadata": {
        "id": "ROBaiwsgb3RA"
      },
      "execution_count": null,
      "outputs": []
    },
    {
      "cell_type": "code",
      "source": [
        "def point_percent(time):\n",
        "    percent = 0\n",
        "    # de 0am - 4am\n",
        "    if time in range(0, 5):\n",
        "        percent = 0.1\n",
        "    \n",
        "    # de 5am - 8am\n",
        "    if time in range(5, 9):\n",
        "        percent = 0.9\n",
        "\n",
        "    # de 9am - 16pm\n",
        "    if time in range(9, 18):\n",
        "        percent = 0.5\n",
        "\n",
        "    # de 18pm - 20pm\n",
        "    if time in range(18, 21):\n",
        "        percent = 1.3\n",
        "\n",
        "    # de 21pm - 23pm\n",
        "    if time in range(21, 23):\n",
        "        percent = 0.3\n",
        "\n",
        "    return percent"
      ],
      "metadata": {
        "id": "-W8AtKaEKlR0"
      },
      "execution_count": null,
      "outputs": []
    },
    {
      "cell_type": "code",
      "source": [
        "def getFactor(time, val):\n",
        "    # el factor está en el rango de 0 - 50\n",
        "    # dependiendo de la hora, mi valor va estar en un determinado rango\n",
        "    # puntos por hora\n",
        "    # índice: hora, elemento: puntaje\n",
        "                 # 0  1  2  3  4  5  6   7   8   9   10  11  12  13  14  15  16  17  18  19  20  21  22  23  \n",
        "    time_points = [0, 1, 1, 1, 2, 3, 15, 19, 17, 14, 13, 10, 10, 11, 12, 13, 14, 16, 17, 20, 19, 15, 4, 2]\n",
        "\n",
        "    percent = point_percent(time)\n",
        "    factor = int((val * percent) + time_points[time])\n",
        "\n",
        "    if factor > 50:\n",
        "        factor = 50\n",
        "\n",
        "    return factor"
      ],
      "metadata": {
        "id": "cHcovThSvPoR"
      },
      "execution_count": null,
      "outputs": []
    },
    {
      "cell_type": "code",
      "source": [
        "def calculateWeight(n1, n2, time, val):\n",
        "    \n",
        "    longitude = getlongitude(n1, n2) * 100\n",
        "    factor = getFactor(time, val)\n",
        "    \n",
        "    weight = longitude * factor\n",
        "\n",
        "    if longitude > 0:\n",
        "        weight = round(factor + longitude, 2)\n",
        "    \n",
        "    if (weight > 100):\n",
        "        return 99\n",
        "    else:\n",
        "        return int(weight)"
      ],
      "metadata": {
        "id": "H4mEZNHBbe_g"
      },
      "execution_count": null,
      "outputs": []
    },
    {
      "cell_type": "code",
      "source": [
        "# el nuevo grafo será un diccionario, donde cada \"key\" contiene 1 arreglo de arreglos\n",
        "# cada arreglo dentro del principal, tiene solo 2 posiciones\n",
        "# 1era posición del arreglo: 1 tuple de intersecciones\n",
        "# 2da posición del arreglo: peso de la arista con respecto al valor de la \"key\"\n",
        "\n",
        "def updateGraph():\n",
        "    time = askTime()\n",
        "\n",
        "    # map con pesos\n",
        "    mapW = {}\n",
        "    for key in map2:\n",
        "        if key in latlong:\n",
        "            k = getInterId(key)\n",
        "            mapW[k] = []\n",
        "        else:\n",
        "            continue\n",
        "        for arista in map2[key]:\n",
        "            edge = (arista[0], arista[1])\n",
        "            if edge in latlong:\n",
        "                weight = calculateWeight(getOnlyLatLong(key), getOnlyLatLong(edge), time, arista[2])\n",
        "                # [intersección, peso]\n",
        "                if weight == 0: continue\n",
        "                mapW[k].append((getInterId(edge), weight))\n",
        "        mapW[k]\n",
        "    return mapW"
      ],
      "metadata": {
        "id": "B6zdJ6h98DzB"
      },
      "execution_count": null,
      "outputs": []
    },
    {
      "cell_type": "code",
      "source": [
        "def getMaxKey(G):\n",
        "    return max(G, key = G.get)"
      ],
      "metadata": {
        "id": "mw1ivyAxNHV8"
      },
      "execution_count": null,
      "outputs": []
    },
    {
      "cell_type": "code",
      "source": [
        "mapW = updateGraph()"
      ],
      "metadata": {
        "id": "-y3Nkfsy5rzN"
      },
      "execution_count": null,
      "outputs": []
    },
    {
      "cell_type": "code",
      "source": [
        "printDictionary(mapW)"
      ],
      "metadata": {
        "colab": {
          "base_uri": "https://localhost:8080/"
        },
        "id": "oLg7W2uy1qkF",
        "outputId": "f09ee4f5-81f6-47cd-852d-85d6789a4972"
      },
      "execution_count": 178,
      "outputs": [
        {
          "output_type": "stream",
          "name": "stdout",
          "text": [
            "0: [(1, 55)]\n",
            "1: [(0, 55), (2, 27)]\n",
            "2: [(1, 27), (3, 71), (7, 23)]\n",
            "3: [(2, 71), (28, 3), (30, 2)]\n",
            "4: [(1, 55)]\n",
            "5: [(0, 55), (2, 27)]\n",
            "6: [(7, 23), (1, 27), (3, 71)]\n",
            "7: [(6, 23), (8, 39), (26, 37), (28, 61)]\n",
            "8: [(7, 39), (9, 19), (65, 39)]\n",
            "9: [(8, 19), (10, 24), (73, 27)]\n",
            "10: [(9, 24), (11, 5), (55, 79), (57, 66)]\n",
            "11: [(10, 5), (12, 12)]\n",
            "12: [(11, 13), (13, 6)]\n",
            "13: [(12, 6), (14, 13)]\n",
            "14: [(13, 13), (15, 17)]\n",
            "15: [(14, 17), (16, 34), (82, 40)]\n",
            "16: [(15, 35), (17, 14), (84, 62)]\n",
            "17: [(16, 14), (18, 10), (93, 66)]\n",
            "18: [(17, 10), (19, 14)]\n",
            "19: [(18, 14), (20, 11), (98, 5)]\n",
            "20: [(19, 10), (21, 25)]\n",
            "21: [(20, 25), (22, 14), (108, 12)]\n",
            "22: [(21, 14), (23, 43)]\n",
            "23: [(22, 43), (24, 2)]\n",
            "24: [(23, 2), (25, 67), (111, 14)]\n",
            "25: [(24, 67)]\n",
            "26: [(27, 37), (55, 36)]\n",
            "27: [(26, 37), (28, 61), (6, 23), (8, 39)]\n",
            "28: [(27, 63), (29, 5), (32, 42)]\n",
            "29: [(28, 5), (30, 4), (2, 73)]\n",
            "30: [(29, 4)]\n",
            "31: [(32, 42), (27, 63), (29, 5)]\n",
            "32: [(31, 44), (33, 15)]\n",
            "33: [(32, 15), (34, 9)]\n",
            "34: [(33, 9), (35, 24)]\n",
            "35: [(34, 24), (36, 8)]\n",
            "36: [(35, 8), (37, 19)]\n",
            "37: [(36, 16), (38, 10)]\n",
            "38: [(37, 11), (39, 18)]\n",
            "39: [(38, 18), (40, 15), (52, 9)]\n",
            "40: [(39, 15)]\n",
            "41: [(42, 4)]\n",
            "42: [(41, 4), (43, 5)]\n",
            "43: [(42, 5), (44, 8)]\n",
            "44: [(43, 8), (45, 9)]\n",
            "45: [(44, 9), (46, 8)]\n",
            "46: [(45, 8)]\n",
            "47: []\n",
            "48: [(49, 9)]\n",
            "49: [(48, 9)]\n",
            "50: [(32, 11), (34, 5)]\n",
            "51: [(52, 7), (38, 16), (40, 13)]\n",
            "52: [(51, 7)]\n",
            "53: [(42, 2)]\n",
            "54: [(55, 36), (27, 37)]\n",
            "55: [(54, 36), (56, 79), (64, 39), (66, 6)]\n",
            "56: [(55, 79), (57, 66), (9, 24), (11, 5)]\n",
            "57: [(56, 66), (58, 47), (75, 6)]\n",
            "58: [(57, 49), (125, 37)]\n",
            "59: [(42, 3), (44, 6)]\n",
            "60: [(43, 6), (45, 7)]\n",
            "61: [(44, 7), (46, 6)]\n",
            "62: [(45, 6)]\n",
            "63: []\n",
            "64: [(65, 41), (7, 40), (9, 20)]\n",
            "65: [(64, 40), (66, 7), (54, 37), (56, 80)]\n",
            "66: [(65, 7), (67, 9), (121, 5)]\n",
            "67: [(66, 9), (68, 6), (124, 6)]\n",
            "68: [(67, 6), (69, 79)]\n",
            "69: [(68, 79), (70, 11)]\n",
            "70: [(69, 11), (71, 7)]\n",
            "71: [(70, 7)]\n",
            "72: [(73, 30), (8, 19), (10, 24)]\n",
            "73: [(72, 27), (74, 5)]\n",
            "74: [(73, 5), (75, 8), (124, 12), (126, 35)]\n",
            "75: [(74, 8), (76, 6), (121, 12)]\n",
            "76: [(75, 6), (56, 66), (58, 47)]\n",
            "77: [(10, 5), (12, 12)]\n",
            "78: [(11, 12), (13, 5)]\n",
            "79: [(12, 5), (14, 12)]\n",
            "80: [(13, 12), (15, 16)]\n",
            "81: [(82, 39), (14, 16), (16, 33)]\n",
            "82: [(81, 39)]\n",
            "83: [(84, 61), (15, 33), (17, 13)]\n",
            "84: [(83, 61), (85, 10)]\n",
            "85: [(84, 10), (86, 68), (128, 23)]\n",
            "86: [(85, 68), (87, 21), (134, 11), (136, 8)]\n",
            "87: [(86, 21), (88, 8), (140, 5)]\n",
            "88: [(87, 6), (89, 8), (147, 5)]\n",
            "89: [(88, 8), (90, 11), (154, 11)]\n",
            "90: [(89, 11), (91, 27), (156, 32), (158, 67)]\n",
            "91: [(90, 27), (334, 14)]\n",
            "92: [(93, 65), (16, 13), (18, 9)]\n",
            "93: [(92, 65), (94, 8), (161, 4)]\n",
            "94: [(93, 8)]\n",
            "95: [(17, 11), (19, 15)]\n",
            "96: [(24, 69)]\n",
            "97: [(98, 7), (18, 15), (20, 12)]\n",
            "98: [(97, 7), (99, 6), (164, 7)]\n",
            "99: [(98, 6), (100, 10)]\n",
            "100: [(99, 10), (101, 5), (167, 4)]\n",
            "101: [(100, 5), (102, 9)]\n",
            "102: [(101, 9), (103, 40)]\n",
            "103: [(102, 40), (104, 33), (170, 23)]\n",
            "104: [(103, 35), (132, 20), (134, 56)]\n",
            "105: [(19, 12), (21, 27)]\n",
            "106: [(21, 16), (23, 45)]\n",
            "107: [(108, 14), (20, 27), (22, 14)]\n",
            "108: [(107, 12), (109, 3), (172, 4)]\n",
            "109: [(108, 3), (177, 14)]\n",
            "110: [(111, 14), (23, 2), (25, 67)]\n",
            "111: [(110, 14), (112, 40), (196, 11)]\n",
            "112: [(111, 40), (113, 49), (214, 6)]\n",
            "113: [(112, 50), (114, 33), (129, 6), (131, 36)]\n",
            "114: [(113, 33), (115, 66), (216, 2)]\n",
            "115: [(114, 66), (116, 22), (158, 4)]\n",
            "116: [(115, 22), (117, 36)]\n",
            "117: [(116, 36), (118, 27)]\n",
            "118: [(117, 27), (119, 24), (219, 4), (221, 23)]\n",
            "119: [(118, 24), (285, 5)]\n",
            "120: [(121, 7), (65, 9), (67, 11)]\n",
            "121: [(120, 7), (122, 15)]\n",
            "122: [(121, 16), (74, 12), (76, 10)]\n",
            "123: [(124, 8), (66, 12), (68, 8)]\n",
            "124: [(123, 8), (125, 16)]\n",
            "125: [(124, 16), (126, 39), (73, 7), (75, 10)]\n",
            "126: [(125, 37), (57, 49)]\n",
            "127: [(128, 23), (84, 10), (86, 68)]\n",
            "128: [(127, 23), (181, 6)]\n",
            "129: [(130, 5), (197, 66), (199, 29)]\n",
            "130: [(129, 3), (131, 33), (112, 47), (114, 30)]\n",
            "131: [(130, 33), (132, 20), (236, 16)]\n",
            "132: [(131, 20), (133, 18), (216, 23)]\n",
            "133: [(132, 18), (134, 54), (103, 33)]\n",
            "134: [(133, 54), (135, 9), (242, 4)]\n",
            "135: [(134, 9), (136, 6), (85, 66), (87, 19)]\n",
            "136: [(135, 6), (137, 11)]\n",
            "137: [(136, 11), (138, 14), (247, 5)]\n",
            "138: [(137, 14), (250, 4)]\n",
            "139: [(140, 5), (86, 20), (88, 7)]\n",
            "140: [(139, 6), (141, 2)]\n",
            "141: [(140, 2), (142, 14), (253, 4)]\n",
            "142: [(141, 14), (143, 5), (255, 1)]\n",
            "143: [(142, 5), (144, 30), (248, 17)]\n",
            "144: [(143, 30), (145, 43), (153, 5)]\n",
            "145: [(144, 43), (262, 8)]\n",
            "146: [(147, 7), (87, 8), (89, 10)]\n",
            "147: [(146, 5), (148, 8), (253, 3)]\n",
            "148: [(147, 8), (149, 20)]\n",
            "149: [(148, 20), (150, 23), (153, 3), (155, 11)]\n",
            "150: [(149, 23), (151, 4)]\n",
            "151: [(150, 4), (268, 16)]\n",
            "152: [(153, 3), (143, 28), (145, 41)]\n",
            "153: [(152, 3), (154, 3)]\n",
            "154: [(153, 3), (155, 11), (148, 20), (150, 23)]\n",
            "155: [(154, 11), (88, 8), (90, 11)]\n",
            "156: [(157, 32), (223, 8), (225, 11)]\n",
            "157: [(156, 32), (158, 67), (89, 12), (91, 28)]\n",
            "158: [(157, 68), (159, 6), (200, 27), (202, 22)]\n",
            "159: [(158, 6), (114, 68), (116, 24)]\n",
            "160: [(161, 6), (92, 65), (94, 8)]\n",
            "161: [(160, 4), (181, 6)]\n",
            "162: [(93, 8)]\n",
            "163: [(164, 5), (97, 5), (99, 4)]\n",
            "164: [(163, 5)]\n",
            "165: [(98, 4), (100, 10)]\n",
            "166: [(167, 4), (99, 10), (101, 5)]\n",
            "167: [(166, 4)]\n",
            "168: [(101, 9), (103, 40)]\n",
            "169: [(170, 21), (102, 40), (104, 33)]\n",
            "170: [(169, 21), (235, 16), (237, 40)]\n",
            "171: [(172, 4), (107, 12), (109, 3)]\n",
            "172: [(171, 4), (173, 5)]\n",
            "173: [(172, 5), (174, 4)]\n",
            "174: [(173, 4), (175, 9)]\n",
            "175: [(174, 9), (195, 9), (197, 12)]\n",
            "176: [(177, 14), (108, 3)]\n",
            "177: [(176, 14)]\n",
            "178: [(120, 4), (122, 12)]\n",
            "179: [(123, 6), (125, 14)]\n",
            "180: [(181, 8), (160, 6)]\n",
            "181: [(180, 8), (182, 6)]\n",
            "182: [(181, 6), (127, 23)]\n",
            "183: [(184, 6)]\n",
            "184: [(183, 6), (188, 3)]\n",
            "185: [(68, 77), (70, 9)]\n",
            "186: [(184, 4)]\n",
            "187: [(188, 3), (183, 4)]\n",
            "188: [(187, 3), (189, 6)]\n",
            "189: [(188, 6)]\n",
            "190: [(188, 7)]\n",
            "191: [(69, 12), (71, 7)]\n",
            "192: [(171, 7), (173, 7)]\n",
            "193: [(172, 7), (174, 6)]\n",
            "194: [(173, 6), (175, 11)]\n",
            "195: [(196, 11), (110, 16), (112, 42)]\n",
            "196: [(195, 13), (197, 16), (174, 13)]\n",
            "197: [(196, 16), (198, 70), (208, 10)]\n",
            "198: [(197, 70), (199, 33), (130, 7)]\n",
            "199: [(198, 31), (200, 45), (215, 25), (217, 4)]\n",
            "200: [(199, 45), (201, 27), (212, 35)]\n",
            "201: [(200, 27), (202, 22), (157, 69), (159, 4)]\n",
            "202: [(201, 20), (203, 36)]\n",
            "203: [(202, 36), (204, 27)]\n",
            "204: [(203, 27), (205, 6), (220, 1)]\n",
            "205: [(204, 6), (206, 16), (274, 21)]\n",
            "206: [(205, 16), (284, 2), (286, 1)]\n",
            "207: [(208, 6), (196, 12), (198, 66)]\n",
            "208: [(207, 6), (209, 26)]\n",
            "209: [(208, 26), (210, 9)]\n",
            "210: [(209, 9)]\n",
            "211: [(212, 34), (199, 44), (201, 26)]\n",
            "212: [(211, 34), (263, 7)]\n",
            "213: [(214, 5), (111, 39), (113, 48)]\n",
            "214: [(213, 5)]\n",
            "215: [(216, 24), (131, 22), (133, 20)]\n",
            "216: [(215, 25), (217, 4), (198, 31), (200, 45)]\n",
            "217: [(216, 4), (113, 32), (115, 66)]\n",
            "218: [(201, 20), (203, 36)]\n",
            "219: [(220, 1), (203, 27), (205, 6)]\n",
            "220: [(219, 1), (221, 20), (117, 27), (119, 21)]\n",
            "221: [(220, 20), (222, 3)]\n",
            "222: [(221, 3), (223, 4), (325, 6)]\n",
            "223: [(222, 4), (224, 8), (328, 51)]\n",
            "224: [(223, 8), (225, 11), (157, 32)]\n",
            "225: [(224, 11), (226, 44)]\n",
            "226: [(225, 44), (227, 6)]\n",
            "227: [(226, 6), (228, 19), (337, 6)]\n",
            "228: [(227, 19), (229, 10), (341, 7)]\n",
            "229: [(228, 10), (230, 2), (346, 6)]\n",
            "230: [(229, 2), (231, 42), (351, 25)]\n",
            "231: [(230, 42), (232, 29), (353, 47), (355, 37)]\n",
            "232: [(231, 29), (233, 11)]\n",
            "233: [(232, 11), (481, 18)]\n",
            "481: [(233, 18), (234, 2)]\n",
            "234: [(481, 2)]\n",
            "235: [(236, 16), (130, 34), (132, 21)]\n",
            "236: [(235, 17), (237, 41), (169, 22)]\n",
            "237: [(236, 41), (239, 4)]\n",
            "238: [(239, 4), (236, 41)]\n",
            "239: [(238, 4)]\n",
            "240: [(238, 3)]\n",
            "241: [(242, 4), (133, 54), (135, 9)]\n",
            "242: [(241, 4), (243, 8), (265, 5)]\n",
            "243: [(242, 8)]\n",
            "244: [(135, 6), (137, 11)]\n",
            "245: [(139, 5), (141, 1)]\n",
            "246: [(247, 5), (136, 11), (138, 14)]\n",
            "247: [(246, 5), (248, 3)]\n",
            "248: [(247, 3), (249, 15), (258, 3)]\n",
            "249: [(248, 16), (142, 5), (144, 29)]\n",
            "250: [(251, 5), (260, 14)]\n",
            "251: [(250, 5), (137, 15)]\n",
            "252: [(253, 3), (140, 1), (142, 13)]\n",
            "253: [(252, 5), (254, 5), (268, 1), (269, 18)]\n",
            "254: [(253, 5), (146, 7), (148, 10)]\n",
            "255: [(142, 1), (141, 15), (143, 6)]\n",
            "256: [(258, 4)]\n",
            "257: [(258, 5), (247, 4), (249, 16)]\n",
            "258: [(257, 4), (259, 3), (261, 14)]\n",
            "259: [(258, 4)]\n",
            "260: [(261, 15), (257, 5), (259, 4)]\n",
            "261: [(260, 15), (251, 4)]\n",
            "262: [(263, 6), (211, 33)]\n",
            "263: [(262, 6), (144, 41)]\n",
            "264: [(265, 5), (241, 4), (243, 8)]\n",
            "265: [(264, 5)]\n",
            "266: [(264, 5)]\n",
            "267: [(149, 23), (151, 4)]\n",
            "268: [(269, 16), (253, 1), (252, 3), (254, 3)]\n",
            "269: [(268, 16), (150, 4)]\n",
            "270: [(207, 6), (209, 26)]\n",
            "271: [(187, 3), (189, 6)]\n",
            "272: [(29, 2)]\n",
            "273: [(274, 21), (204, 6), (206, 16)]\n",
            "274: [(273, 21), (276, 5)]\n",
            "275: [(276, 5), (273, 21)]\n",
            "276: [(275, 5), (277, 6), (279, 6)]\n",
            "277: [(276, 6), (286, 15), (288, 13)]\n",
            "278: [(279, 6), (275, 5), (277, 6)]\n",
            "279: [(278, 6), (280, 16), (291, 16)]\n",
            "280: [(279, 17), (281, 11), (294, 3)]\n",
            "281: [(280, 11), (282, 8), (297, 4)]\n",
            "282: [(281, 8), (283, 8), (300, 5)]\n",
            "283: [(282, 7), (304, 5)]\n",
            "284: [(285, 2), (118, 21)]\n",
            "285: [(284, 2), (286, 1), (205, 16)]\n",
            "286: [(285, 1), (287, 15), (306, 16)]\n",
            "287: [(286, 16), (288, 14), (276, 7)]\n",
            "288: [(287, 14), (294, 3), (296, 4)]\n",
            "289: [(309, 22), (311, 30)]\n",
            "290: [(291, 16), (278, 7), (280, 16)]\n",
            "291: [(290, 15), (293, 2), (295, 2)]\n",
            "292: [(313, 19)]\n",
            "293: [(294, 2), (279, 16), (281, 10)]\n",
            "294: [(293, 2), (295, 2), (290, 16)]\n",
            "295: [(294, 3), (296, 4), (287, 14)]\n",
            "296: [(295, 4)]\n",
            "297: [(298, 4)]\n",
            "298: [(297, 4), (280, 11), (282, 8)]\n",
            "299: [(300, 34)]\n",
            "300: [(299, 33), (301, 4)]\n",
            "301: [(300, 4), (281, 7), (283, 7)]\n",
            "302: [(316, 52), (318, 9)]\n",
            "303: [(304, 5), (282, 7)]\n",
            "304: [(303, 5)]\n",
            "305: [(306, 16), (285, 1), (287, 15)]\n",
            "306: [(305, 16), (307, 33), (323, 5)]\n",
            "307: [(306, 33)]\n",
            "308: [(317, 9), (319, 2)]\n",
            "309: [(310, 21)]\n",
            "310: [(309, 23), (311, 31)]\n",
            "311: [(310, 31), (318, 4)]\n",
            "312: [(313, 21)]\n",
            "313: [(312, 21), (314, 40)]\n",
            "314: [(313, 40), (320, 5)]\n",
            "315: [(295, 5)]\n",
            "316: [(317, 52), (321, 3)]\n",
            "317: [(316, 52), (318, 9)]\n",
            "318: [(317, 9), (319, 2)]\n",
            "319: [(318, 2), (310, 29)]\n",
            "320: [(321, 3), (317, 52)]\n",
            "321: [(320, 6), (313, 41)]\n",
            "322: [(323, 8), (305, 18), (307, 35)]\n",
            "323: [(322, 7)]\n",
            "324: [(325, 8), (221, 5), (223, 6)]\n",
            "325: [(324, 8)]\n",
            "326: [(224, 11), (226, 44)]\n",
            "327: [(328, 51), (222, 4), (224, 8)]\n",
            "328: [(327, 51)]\n",
            "329: [(327, 51)]\n",
            "330: [(225, 44), (227, 6)]\n",
            "331: [(332, 3), (363, 6)]\n",
            "332: [(331, 3), (333, 4)]\n",
            "333: [(332, 4), (334, 3), (367, 9)]\n",
            "334: [(333, 7), (335, 18), (369, 13)]\n",
            "335: [(334, 18), (90, 31)]\n",
            "336: [(337, 10), (226, 10), (228, 23)]\n",
            "337: [(336, 10), (338, 9), (362, 7), (364, 29)]\n",
            "338: [(337, 6)]\n",
            "339: [(180, 7), (182, 5)]\n",
            "340: [(341, 8), (227, 20), (229, 11)]\n",
            "341: [(340, 8), (342, 11), (373, 11)]\n",
            "342: [(341, 13), (375, 6), (377, 11)]\n",
            "343: [(344, 23), (379, 6), (381, 5)]\n",
            "344: [(343, 22), (385, 5), (387, 5)]\n",
            "345: [(346, 8), (228, 12), (230, 4)]\n",
            "346: [(345, 8), (347, 3), (363, 30)]\n",
            "347: [(346, 3), (348, 34)]\n",
            "348: [(347, 34), (349, 21)]\n",
            "349: [(348, 20), (396, 30)]\n",
            "350: [(351, 26), (229, 3), (231, 43)]\n",
            "351: [(350, 26), (352, 28), (382, 5)]\n",
            "352: [(351, 27)]\n",
            "353: [(354, 47)]\n",
            "354: [(353, 48), (355, 38), (230, 43), (232, 30)]\n",
            "355: [(354, 38), (356, 12)]\n",
            "356: [(355, 12)]\n",
            "357: []\n",
            "358: [(231, 30), (233, 12)]\n",
            "359: [(232, 12), (481, 18)]\n",
            "361: [(481, 2)]\n",
            "362: [(363, 6), (332, 6)]\n",
            "363: [(362, 9), (364, 32), (336, 10), (338, 9)]\n",
            "364: [(363, 32), (345, 10), (347, 5)]\n",
            "365: [(331, 7), (333, 8)]\n",
            "366: [(367, 9), (332, 4), (334, 3)]\n",
            "367: [(366, 9), (371, 3)]\n",
            "368: [(369, 9), (333, 3), (335, 14)]\n",
            "369: [(368, 9), (370, 3)]\n",
            "370: [(371, 4), (366, 10)]\n",
            "371: [(370, 4), (368, 10)]\n",
            "372: [(373, 9), (340, 8), (342, 11)]\n",
            "373: [(372, 9), (393, 11)]\n",
            "374: [(375, 4)]\n",
            "375: [(374, 3), (376, 3)]\n",
            "376: [(375, 3), (377, 8), (341, 10)]\n",
            "377: [(376, 8), (394, 10)]\n",
            "378: [(375, 3)]\n",
            "379: [(380, 3)]\n",
            "380: [(379, 3), (381, 3), (344, 20)]\n",
            "381: [(380, 3), (382, 6), (389, 20)]\n",
            "382: [(381, 6), (383, 4), (391, 20)]\n",
            "383: [(382, 4), (350, 25), (352, 27)]\n",
            "384: [(385, 8)]\n",
            "385: [(384, 8), (386, 3)]\n",
            "386: [(385, 3), (387, 3), (343, 20)]\n",
            "387: [(386, 3), (388, 6), (390, 20)]\n",
            "388: [(387, 6), (392, 20)]\n",
            "389: [(390, 20), (386, 3), (388, 6)]\n",
            "390: [(389, 20), (380, 4), (382, 7)]\n",
            "391: [(392, 21), (387, 7)]\n",
            "392: [(391, 20), (381, 6), (383, 4)]\n",
            "393: [(394, 10), (376, 8)]\n",
            "394: [(393, 10), (372, 8)]\n",
            "395: [(396, 29), (348, 19)]\n",
            "396: [(395, 29)]\n",
            "397: [(398, 1), (486, 3)]\n",
            "398: [(397, 1), (399, 7), (487, 3)]\n",
            "399: [(398, 7), (482, 1)]\n",
            "482: [(399, 1), (400, 4)]\n",
            "400: [(482, 4), (483, 6), (489, 13)]\n",
            "483: [(400, 6), (401, 4)]\n",
            "401: [(483, 4), (402, 7), (498, 9)]\n",
            "402: [(401, 7), (403, 4)]\n",
            "403: [(402, 2), (484, 3)]\n",
            "484: [(403, 3), (485, 2), (500, 19)]\n",
            "485: [(484, 2), (404, 3), (502, 1), (432, 18)]\n",
            "404: [(485, 3), (405, 2), (504, 14)]\n",
            "405: [(404, 2), (406, 3)]\n",
            "406: [(405, 3), (407, 2)]\n",
            "407: [(406, 2), (408, 4), (506, 12)]\n",
            "408: [(407, 4), (441, 23), (442, 2)]\n",
            "409: []\n",
            "486: [(410, 3)]\n",
            "410: [(486, 3), (398, 1)]\n",
            "487: [(411, 3)]\n",
            "411: [(487, 3), (397, 1), (399, 7)]\n",
            "412: [(398, 7), (482, 1)]\n",
            "360: [(399, 1), (400, 4)]\n",
            "488: []\n",
            "413: [(489, 11), (482, 4), (483, 4)]\n",
            "489: [(413, 11), (492, 11)]\n",
            "490: [(491, 2)]\n",
            "491: [(490, 2)]\n",
            "492: [(489, 11), (413, 1)]\n",
            "493: [(414, 7)]\n",
            "494: [(400, 5), (401, 3)]\n",
            "495: [(496, 22)]\n",
            "496: [(495, 22), (497, 7)]\n",
            "497: [(496, 7)]\n",
            "414: [(498, 9), (483, 2), (402, 5)]\n",
            "498: [(414, 7)]\n",
            "415: [(401, 5), (403, 2)]\n",
            "416: [(500, 19), (403, 3), (485, 2)]\n",
            "500: [(416, 19), (417, 6)]\n",
            "417: [(500, 6), (418, 16)]\n",
            "418: [(417, 16), (419, 6)]\n",
            "419: [(418, 6), (420, 28)]\n",
            "420: [(419, 28), (421, 43), (428, 33)]\n",
            "421: [(420, 43), (422, 5)]\n",
            "422: [(421, 5), (423, 6)]\n",
            "423: [(422, 6)]\n",
            "501: []\n",
            "424: [(416, 19), (417, 6)]\n",
            "425: [(500, 6), (418, 16)]\n",
            "426: [(417, 16), (419, 10)]\n",
            "427: [(418, 10), (420, 32)]\n",
            "428: [(420, 33), (419, 9), (421, 15)]\n",
            "429: [(420, 47), (422, 9)]\n",
            "430: [(421, 9), (423, 10)]\n",
            "431: [(422, 10)]\n",
            "432: [(502, 18)]\n",
            "502: [(432, 18), (485, 1), (484, 2), (404, 3)]\n",
            "503: []\n",
            "433: [(504, 14), (485, 3), (405, 2)]\n",
            "504: [(433, 14)]\n",
            "434: [(404, 2), (406, 3)]\n",
            "435: [(405, 5), (407, 4)]\n",
            "505: []\n",
            "436: [(506, 14), (406, 4), (408, 6)]\n",
            "506: [(436, 14)]\n",
            "437: []\n",
            "507: [(508, 13)]\n",
            "508: [(507, 13), (441, 11)]\n",
            "441: [(508, 11), (438, 23)]\n",
            "438: [(441, 23), (442, 2), (407, 4)]\n",
            "442: [(438, 2), (443, 5)]\n",
            "443: [(442, 5), (444, 10)]\n",
            "444: [(443, 10), (445, 5)]\n",
            "445: [(444, 5), (446, 10)]\n",
            "446: [(445, 10), (447, 6)]\n",
            "447: [(446, 6), (448, 7)]\n",
            "448: [(447, 7), (449, 5)]\n",
            "449: [(448, 5), (450, 9)]\n",
            "450: [(449, 9), (451, 6)]\n",
            "451: [(450, 6), (452, 5)]\n",
            "452: [(451, 5), (453, 2)]\n",
            "453: [(452, 2), (454, 18)]\n",
            "454: [(453, 18), (455, 10)]\n",
            "455: [(454, 11), (456, 7)]\n",
            "456: [(455, 7), (457, 5)]\n",
            "457: [(456, 5), (458, 9)]\n",
            "458: [(457, 9), (459, 6)]\n",
            "459: [(458, 6), (460, 10)]\n",
            "460: [(459, 9)]\n",
            "509: [(508, 11)]\n",
            "510: [(507, 11), (441, 9)]\n",
            "461: [(508, 9), (438, 23)]\n",
            "462: [(438, 2), (443, 5)]\n",
            "463: [(442, 5), (444, 10)]\n",
            "464: [(443, 10), (445, 5)]\n",
            "465: [(444, 5), (446, 10)]\n",
            "466: [(445, 10), (447, 6)]\n",
            "467: [(446, 6), (448, 7)]\n",
            "468: [(447, 7), (449, 5)]\n",
            "469: [(448, 5), (450, 9)]\n",
            "470: [(449, 9), (451, 6)]\n",
            "471: [(450, 6), (452, 5)]\n",
            "472: [(451, 5), (453, 2)]\n",
            "473: [(452, 2), (454, 18)]\n",
            "474: [(453, 18), (455, 10)]\n",
            "475: [(454, 10), (456, 6)]\n",
            "476: [(455, 6), (457, 4)]\n",
            "477: [(456, 4), (458, 8)]\n",
            "478: [(457, 8), (459, 5)]\n",
            "479: [(458, 5), (460, 9)]\n",
            "480: [(459, 9)]\n"
          ]
        }
      ]
    },
    {
      "cell_type": "markdown",
      "source": [
        "##**Shortest Paths**\n",
        "Encuentra el camino más corto entre 2 puntos"
      ],
      "metadata": {
        "id": "PmA29J3M6qzb"
      }
    },
    {
      "cell_type": "code",
      "source": [
        "def getMin(a):\n",
        "    min = a[0][1]\n",
        "    index = 0\n",
        "    for i, c in enumerate(a):\n",
        "        if c[1] < min:\n",
        "            min = c[1]\n",
        "            index = i\n",
        "    return a.pop(index)"
      ],
      "metadata": {
        "id": "k6n2a403Jr0g"
      },
      "execution_count": null,
      "outputs": []
    },
    {
      "cell_type": "code",
      "source": [
        "# d: destination\n",
        "# p: path\n",
        "def definePath(d, path):\n",
        "    g = []\n",
        "    g.append(d)\n",
        "\n",
        "    while path[d] != -1:\n",
        "        destination = path[d]\n",
        "        g.insert(0, destination)\n",
        "        d = destination\n",
        "    return g"
      ],
      "metadata": {
        "id": "nLntY2XNYPS-"
      },
      "execution_count": null,
      "outputs": []
    },
    {
      "cell_type": "code",
      "source": [
        "# uses dijkstra\n",
        "def findShortestPath(graph, s, ignore):\n",
        "    n = len(graph)\n",
        "    path = [-1] * n\n",
        "    visited = [False] * n\n",
        "    visited[ignore] = True\n",
        "    \n",
        "    cost = [math.inf] * n\n",
        "    cost[s] = 0\n",
        "\n",
        "    # priority queue\n",
        "    # vértice, peso\n",
        "    priorityq = [(s, 0)]\n",
        "\n",
        "    while priorityq:\n",
        "        # vértice, peso\n",
        "        u, g = getMin(priorityq)\n",
        "        if not visited[u]:\n",
        "            visited[u] = True\n",
        "        for v, w in graph[u]:\n",
        "            if not visited[v]:\n",
        "                weight = g + w\n",
        "                if weight < cost[v]:\n",
        "                    cost[v] = weight\n",
        "                    path[v] = u\n",
        "                    priorityq.append((v, weight))\n",
        "    return path, cost"
      ],
      "metadata": {
        "id": "_6aTAqNBIRCH"
      },
      "execution_count": null,
      "outputs": []
    },
    {
      "cell_type": "code",
      "source": [
        "# s: source\n",
        "# d: destiny\n",
        "def getDirections(s, d, graph):\n",
        "    neighbours = graph[s]\n",
        "    paths = []\n",
        "    costs = []\n",
        "\n",
        "    for n in neighbours:\n",
        "        path, cost = findShortestPath(mapW, n[0], s)\n",
        "        path = definePath(d, path)\n",
        "        path.insert(0, s)\n",
        "        paths.append(path)\n",
        "        costs.append(cost[d])\n",
        "    return paths, costs"
      ],
      "metadata": {
        "id": "VQbwi0TedaKM"
      },
      "execution_count": 170,
      "outputs": []
    },
    {
      "cell_type": "code",
      "source": [
        "def getBestPaths(paths, costs):\n",
        "    bestCosts = [(i, x) for i, x in enumerate(costs)]\n",
        "    bestCosts.sort(key=lambda x:x[1])\n",
        "    \n",
        "    n = len(bestCosts)\n",
        "    if n > 3:\n",
        "        bestCosts = [bestCosts[i] for i in range(3)]\n",
        "    else:\n",
        "        bestCosts = [bestCosts[i] for i in range(n)]\n",
        "\n",
        "    bestPaths = [paths[c[0]] for c in bestCosts]\n",
        "    \n",
        "    return bestPaths"
      ],
      "metadata": {
        "id": "HqA1qB0MT_MJ"
      },
      "execution_count": 221,
      "outputs": []
    },
    {
      "cell_type": "code",
      "source": [
        "# si el costo es inf, significa que no existe un camino\n",
        "def aPathExists(paths, costs):\n",
        "    for i, cost in enumerate(costs):\n",
        "        if cost == float('Inf'):\n",
        "            paths[i] = []"
      ],
      "metadata": {
        "id": "U5ePBwi32JuF"
      },
      "execution_count": 222,
      "outputs": []
    },
    {
      "cell_type": "code",
      "source": [
        "def deleteInvalidPaths(paths, costs):\n",
        "    for i, p in enumerate(paths):\n",
        "        if p == []:\n",
        "            paths.pop(i)\n",
        "            costs.pop(i)"
      ],
      "metadata": {
        "id": "7bnfMUXi6BMW"
      },
      "execution_count": 223,
      "outputs": []
    },
    {
      "cell_type": "code",
      "source": [
        "# desde donde quiero empezar a buscar\n",
        "source = 10\n",
        "# a donde quiero llegar\n",
        "destination = 27\n",
        "paths, costs = getDirections(source, destination, mapW)\n",
        "\n",
        "# elimina caminos inválidos (no existentes)\n",
        "aPathExists(paths, costs)\n",
        "deleteInvalidPaths(paths, costs)\n",
        "\n",
        "# retorna los mejores caminos\n",
        "paths = getBestPaths(paths, costs)\n",
        "costs.sort()\n",
        "\n",
        "print(paths, costs)"
      ],
      "metadata": {
        "id": "KfPMfGg7YUUn",
        "colab": {
          "base_uri": "https://localhost:8080/"
        },
        "outputId": "df90e28d-7589-4f1d-896d-78efd9712010"
      },
      "execution_count": 228,
      "outputs": [
        {
          "output_type": "stream",
          "name": "stdout",
          "text": [
            "[[10, 55, 54, 27], [10, 57, 75, 121, 120, 65, 54, 27], [10, 9, 8, 7, 26, 27]] [73, 108, 132]\n"
          ]
        }
      ]
    },
    {
      "cell_type": "markdown",
      "source": [
        "##**Visualizaciones**\n",
        "Aquí se encuentra todo el código para escribir los datos en el formato necesario para que puedan ser graficados."
      ],
      "metadata": {
        "id": "eJ4G34oZ9seb"
      }
    },
    {
      "cell_type": "code",
      "source": [
        "def latlongGraph(dictionary):\n",
        "    n = len(dictionary) + 10\n",
        "    latlongs = [()] * n\n",
        "    \n",
        "    for key, value in dictionary.items():\n",
        "        latlongs[dictionary[key][2]] = dictionary[key][0] * -1, dictionary[key][1] * -1\n",
        "\n",
        "    return latlongs"
      ],
      "metadata": {
        "id": "wGgicQDDDjdX"
      },
      "execution_count": null,
      "outputs": []
    },
    {
      "cell_type": "code",
      "source": [
        "def getGraph(graph):\n",
        "    n = len(graph) + 10\n",
        "    G = [-1] * n\n",
        "\n",
        "    for key, value in graph.items():\n",
        "        G[key] = value\n",
        "    return G"
      ],
      "metadata": {
        "id": "JL2fE5a6Knf-"
      },
      "execution_count": null,
      "outputs": []
    },
    {
      "cell_type": "code",
      "source": [
        "# loc, G\n",
        "latlongs = latlongGraph(latlong); graph = getGraph(mapW)"
      ],
      "metadata": {
        "id": "x2F8dDKNEO-A"
      },
      "execution_count": null,
      "outputs": []
    }
  ]
}
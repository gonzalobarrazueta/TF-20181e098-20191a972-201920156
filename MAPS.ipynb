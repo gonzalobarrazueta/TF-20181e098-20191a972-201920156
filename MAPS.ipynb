{
  "nbformat": 4,
  "nbformat_minor": 0,
  "metadata": {
    "colab": {
      "name": "MAPS.ipynb",
      "provenance": [],
      "collapsed_sections": [
        "RGur0l6rdqAS"
      ],
      "authorship_tag": "ABX9TyNC5dz1LLD74zvhNPOcjM3W",
      "include_colab_link": true
    },
    "kernelspec": {
      "name": "python3",
      "display_name": "Python 3"
    },
    "language_info": {
      "name": "python"
    }
  },
  "cells": [
    {
      "cell_type": "markdown",
      "metadata": {
        "id": "view-in-github",
        "colab_type": "text"
      },
      "source": [
        "<a href=\"https://colab.research.google.com/github/gonzalobarrazueta/TF-20181e098-20191a972-201920156/blob/main/MAPS.ipynb\" target=\"_parent\"><img src=\"https://colab.research.google.com/assets/colab-badge.svg\" alt=\"Open In Colab\"/></a>"
      ]
    },
    {
      "cell_type": "markdown",
      "source": [
        "##**Imports**"
      ],
      "metadata": {
        "id": "rdPNXFH5essP"
      }
    },
    {
      "cell_type": "code",
      "source": [
        "# Perlin Noise\n",
        "!pip install perlin_noise\n",
        "import matplotlib.pyplot as plt\n",
        "import numpy as np\n",
        "from perlin_noise import PerlinNoise\n",
        "# ------------\n",
        "import csv\n",
        "import json\n",
        "# Sección Aristas\n",
        "from datetime import datetime\n",
        "from math import radians, cos, sin, asin, sqrt\n",
        "import random\n",
        "# Dijkstra/Priority Queue\n",
        "import heapq as hq\n",
        "import math\n",
        "# ------------\n",
        "import numpy as np\n",
        "import graphviz as gv #sirve para dibujar grafos"
      ],
      "metadata": {
        "id": "Ft_WMWjKegCO"
      },
      "execution_count": null,
      "outputs": []
    },
    {
      "cell_type": "markdown",
      "source": [
        "##**Diccionario de calles**\n",
        "Crea un diccionario donde cada nombre de calle ***(key)*** tiene asignado un `id` ***(value)***"
      ],
      "metadata": {
        "id": "F1p7UhsvkRNT"
      }
    },
    {
      "cell_type": "code",
      "source": [
        "def addKey_Values(dictionary, key, value):\n",
        "    dictionary[key] = value"
      ],
      "metadata": {
        "id": "qvn_alN-9gkk"
      },
      "execution_count": 7,
      "outputs": []
    },
    {
      "cell_type": "code",
      "source": [
        "def printDictionary(dictionary):\n",
        "    for k, v in dictionary.items():\n",
        "        print(f\"{k}: {v}\")"
      ],
      "metadata": {
        "id": "LE5QHCb5pbNy"
      },
      "execution_count": 8,
      "outputs": []
    },
    {
      "cell_type": "code",
      "source": [
        "def cargarDatos(dictionary):\n",
        "    with open('Calles de San Martín de Porres.csv') as file: \n",
        "        reader = csv.reader(file)\n",
        "        \n",
        "        for id, row in enumerate(reader):\n",
        "            addKey_Values(dictionary, row[0].lower(), id)"
      ],
      "metadata": {
        "id": "aBWrVHPpFxBC"
      },
      "execution_count": 9,
      "outputs": []
    },
    {
      "cell_type": "code",
      "source": [
        "def createStreetsDictionary():   \n",
        "    streets = {}\n",
        "    cargarDatos(streets)\n",
        "    return streets"
      ],
      "metadata": {
        "id": "HQAcMl46rQlA"
      },
      "execution_count": 10,
      "outputs": []
    },
    {
      "cell_type": "code",
      "source": [
        "streetsDictionary = createStreetsDictionary()"
      ],
      "metadata": {
        "id": "KjmA0jq_Im3f"
      },
      "execution_count": 11,
      "outputs": []
    },
    {
      "cell_type": "markdown",
      "source": [
        "##**Lista de Adyacencia de calles y sus intersecciones**\n",
        "\n",
        "\n"
      ],
      "metadata": {
        "id": "J0b-KrPix_58"
      }
    },
    {
      "cell_type": "code",
      "source": [
        "def printAdList(graph): \n",
        "    for i, intersection in enumerate(graph):\n",
        "        print(i, intersection)\n",
        "    \n",
        "    print(f\"Cantidad de vértices = {len(graph)}\")"
      ],
      "metadata": {
        "id": "Gaop7miPqVSA"
      },
      "execution_count": 12,
      "outputs": []
    },
    {
      "cell_type": "code",
      "source": [
        "def streetExists(streetName):\n",
        "    if streetName in streetsDictionary:\n",
        "        id = streetsDictionary[streetName]\n",
        "    else:\n",
        "        id = -1 # la calle no está mapeada\n",
        "    return id"
      ],
      "metadata": {
        "id": "5hBrXQFU4geG"
      },
      "execution_count": 13,
      "outputs": []
    },
    {
      "cell_type": "code",
      "source": [
        "# adjacencyList: arreglo de arreglos, donde la pos del primer elemento (1er arreglo)\n",
        "# es la calle y el arreglo son todas las calles con las que se intersecta\n",
        "def createAdjacencyList(adjacencyList):\n",
        "    with open('Calles de San Martín de Porres.csv') as file: \n",
        "        reader = csv.reader(file)\n",
        "        for row in reader:  \n",
        "            intersections = []\n",
        "            for i in range(len(row)):\n",
        "                if i != 0:\n",
        "                    intersections.append(streetExists(row[i].lower()))\n",
        "            adjacencyList.append(intersections)\n",
        "\n",
        "    return adjacencyList"
      ],
      "metadata": {
        "id": "ZTtbPcxvVxvy"
      },
      "execution_count": 14,
      "outputs": []
    },
    {
      "cell_type": "code",
      "source": [
        "# creal la lista de adyacencia\n",
        "intersectionsAdList = createAdjacencyList([])"
      ],
      "metadata": {
        "id": "jdBc97CMMN2v"
      },
      "execution_count": 15,
      "outputs": []
    },
    {
      "cell_type": "markdown",
      "source": [
        "##**Lista de Adyacencia de intersecciones (Grafo Principal)**"
      ],
      "metadata": {
        "id": "rxPsDAM35t5d"
      }
    },
    {
      "cell_type": "code",
      "source": [
        "def createKeys(graph):\n",
        "    intersectionsIDs = {}\n",
        "\n",
        "    for i in range(len(graph)):\n",
        "        for street in graph[i]:\n",
        "            # si las keys aún no han sido creadas, las agrega al diccionario\n",
        "            if (i, street) not in intersectionsIDs and street != -1:\n",
        "                intersectionsIDs[(i, street)] = []\n",
        "\n",
        "    return intersectionsIDs"
      ],
      "metadata": {
        "id": "LCoD5Unynb4n"
      },
      "execution_count": 16,
      "outputs": []
    },
    {
      "cell_type": "code",
      "source": [
        "def addIntersections(graph, i, j):  \n",
        "    street = graph[i][j]\n",
        "\n",
        "    if street != -1:\n",
        "        # agrego la intersección már próxima hacia la izquierda\n",
        "        if j > 0 and graph[i][j - 1] != -1:\n",
        "            tup = (i, graph[i][j - 1])\n",
        "            map[(i, street)].append(tup)\n",
        "\n",
        "        # agrego la intersección már próxima hacia la derecha\n",
        "        if j < len(graph[i]) - 1 and graph[i][j + 1] != -1:\n",
        "            tup = (i, graph[i][j + 1])\n",
        "            map[(i, street)].append(tup)"
      ],
      "metadata": {
        "id": "1qBKJ3lsAg2O"
      },
      "execution_count": 17,
      "outputs": []
    },
    {
      "cell_type": "code",
      "source": [
        "def addIntersectionsReversed(graph, i, j):  \n",
        "    street = graph[i][j]\n",
        "\n",
        "    # ahora voy al reverso de la lista\n",
        "    if i != -1 and street != -1:\n",
        "        if (street < len(graph)) and (i in graph[street]):\n",
        "            tup = (street, i)\n",
        "            map[(i, street)].append(tup)\n",
        "            \n",
        "            k = graph[street].index(i) # k = 2\n",
        "\n",
        "            if k > 0 and graph[street][k - 1] != -1:\n",
        "                tup = (street, graph[street][k - 1])\n",
        "                map[(i, street)].append(tup)\n",
        "        \n",
        "            if k < len(graph[street]) - 1 and graph[street][k + 1] != -1:\n",
        "                tup = (street, graph[street][k + 1])\n",
        "                map[(i, street)].append(tup)"
      ],
      "metadata": {
        "id": "S9CGv6Fy-CN9"
      },
      "execution_count": 18,
      "outputs": []
    },
    {
      "cell_type": "code",
      "source": [
        "def joinIntersections(graph):\n",
        "    n = len(graph)\n",
        "    for i in range(n):        \n",
        "        for j in range(len(graph[i])):\n",
        "            addIntersections(graph, i, j)\n",
        "            addIntersectionsReversed(graph, i, j)"
      ],
      "metadata": {
        "id": "kZCXXHwk50Ho"
      },
      "execution_count": 19,
      "outputs": []
    },
    {
      "cell_type": "code",
      "source": [
        "# calcula el total de nodos solo par el grafo \"map\"\n",
        "def totalNodes(graph):\n",
        "    total = 0 \n",
        "    for key, value in graph.items():\n",
        "        total += len(value)\n",
        "    return total"
      ],
      "metadata": {
        "id": "B35aNBmhPfn6"
      },
      "execution_count": 20,
      "outputs": []
    },
    {
      "cell_type": "code",
      "source": [
        "# grafo principal\n",
        "map = createKeys(intersectionsAdList)\n",
        "joinIntersections(intersectionsAdList)"
      ],
      "metadata": {
        "id": "rZ0K3Io2RT03"
      },
      "execution_count": 21,
      "outputs": []
    },
    {
      "cell_type": "markdown",
      "source": [
        "##**Diccionario de Latitudes, Longitudes y `ids` para cada intersección**"
      ],
      "metadata": {
        "id": "ZaJHYPk9cw41"
      }
    },
    {
      "cell_type": "code",
      "source": [
        "def formatearLatitudeorLongitude(input):\n",
        "    separar = input\n",
        "    separar = separar.split(\".\");\n",
        "\n",
        "    union= separar[0]+\".\"+separar[1]+separar[2];\n",
        "    variable_float = float(union)\n",
        "\n",
        "    return variable_float"
      ],
      "metadata": {
        "id": "xyOaIL8JORiw"
      },
      "execution_count": 22,
      "outputs": []
    },
    {
      "cell_type": "code",
      "source": [
        "# devuelve solo la latitud y longitud, no el id\n",
        "def getOnlyLatLong(key):\n",
        "    return (latlong[key][0], latlong[key][1])"
      ],
      "metadata": {
        "id": "_BXYBWwSO8XU"
      },
      "execution_count": 23,
      "outputs": []
    },
    {
      "cell_type": "code",
      "source": [
        "def getInterId(key):\n",
        "    return latlong[key][2]"
      ],
      "metadata": {
        "id": "WZUSbZaDba-l"
      },
      "execution_count": 24,
      "outputs": []
    },
    {
      "cell_type": "code",
      "source": [
        "def createLatLongDictionary(latlong):\n",
        "    with open(\"Latitud y Longitud de calles.csv\") as file: \n",
        "        reader = csv.reader(file)      \n",
        "        # ignora el header (la 1era fila del csv)\n",
        "        next(reader)\n",
        "        # se le asignará un id a cada vértice\n",
        "        id = 0\n",
        "        for row in reader:\n",
        "            # busco el id de la calle en mi diccionario de calles \n",
        "            intersection = streetExists(row[0]), streetExists(row[1])\n",
        "            if intersection in map:\n",
        "                latlong[intersection] = formatearLatitudeorLongitude(row[2]), formatearLatitudeorLongitude(row[3]), id\n",
        "                id += 1\n",
        "    return latlong\n",
        "     \n",
        "latlong = createLatLongDictionary({})"
      ],
      "metadata": {
        "id": "cC3C0s5FcwJV"
      },
      "execution_count": 25,
      "outputs": []
    },
    {
      "cell_type": "markdown",
      "source": [
        "##**Agregar valores aleatorios**\n",
        "Agregar valores aleatorios al grafo principal (`map`). Los valores random fueron generados con Perlin Noise"
      ],
      "metadata": {
        "id": "-ZG6JQ2ifOrS"
      }
    },
    {
      "cell_type": "code",
      "source": [
        "def getGraphSize(graph):\n",
        "    return len(graph)"
      ],
      "metadata": {
        "id": "kBypqO76vt23"
      },
      "execution_count": 26,
      "outputs": []
    },
    {
      "cell_type": "code",
      "source": [
        "def perlinNoise():\n",
        "    # tamaño de cada de arreglo\n",
        "    xpix = 10\n",
        "    # cantidad de arreglos\n",
        "    ypix = getGraphSize(map)\n",
        "    noise = PerlinNoise(octaves=5, seed=1)\n",
        "    pic = [[noise([i/xpix, j/ypix]) for j in range(xpix)] for i in range(ypix)]\n",
        "\n",
        "    return np.array(np.array(pic)*100, dtype=int)\n",
        "\n",
        "randValues = perlinNoise()"
      ],
      "metadata": {
        "id": "-3SW4_Ujrnck"
      },
      "execution_count": 27,
      "outputs": []
    },
    {
      "cell_type": "code",
      "source": [
        "def sameNode(n1, n2):\n",
        "    x1, y1 = n1\n",
        "    x2, y2 = n2\n",
        "\n",
        "    if (x1 == y2) and (y1 == x2):\n",
        "        return True\n",
        "    return False"
      ],
      "metadata": {
        "id": "-XikbU4tT_nd"
      },
      "execution_count": 28,
      "outputs": []
    },
    {
      "cell_type": "code",
      "source": [
        "def getListRandValues(n):\n",
        "    r = random.randrange(0, n)\n",
        "    \n",
        "    while sum(randValues[r]) == 0:\n",
        "        r = random.randrange(0, n)\n",
        "\n",
        "    return list(randValues[r])"
      ],
      "metadata": {
        "id": "CZvUIaoJDY7w"
      },
      "execution_count": 29,
      "outputs": []
    },
    {
      "cell_type": "code",
      "source": [
        "def getPositive(num):\n",
        "    if num < 0:\n",
        "        return num * -1\n",
        "    else:\n",
        "        return num"
      ],
      "metadata": {
        "id": "HllBWXD9oIoY"
      },
      "execution_count": 30,
      "outputs": []
    },
    {
      "cell_type": "code",
      "source": [
        "# agrega un valor random (generado con perlin noise) al diccionario de lat y longs\n",
        "def addRandValue(dictionary):\n",
        "\n",
        "    randv = getListRandValues(len(latlong))\n",
        "\n",
        "    for key, value in map.items():\n",
        "        l = []\n",
        "        for u in value:\n",
        "            if sameNode(key, u):\n",
        "                u += (0,)      \n",
        "                l.append(u)\n",
        "                continue\n",
        "\n",
        "            if len(randv) > 0:\n",
        "                u += (getPositive(randv.pop()),)\n",
        "            else:\n",
        "                randv = getListRandValues(len(latlong))\n",
        "                u += (getPositive(randv.pop()),)\n",
        "            l.append(u)\n",
        "        dictionary[key] = l\n",
        "    return dictionary\n",
        "    \n",
        "map2 = addRandValue({})"
      ],
      "metadata": {
        "id": "mTU94o9rqj7R"
      },
      "execution_count": 31,
      "outputs": []
    },
    {
      "cell_type": "markdown",
      "source": [
        "##**Escribir archivos**"
      ],
      "metadata": {
        "id": "RGur0l6rdqAS"
      }
    },
    {
      "cell_type": "code",
      "source": [
        "def writeNodes():\n",
        "    with open(\"nodes.txt\", \"w\") as f:\n",
        "        with open('Calles de San Martín de Porres.csv') as file: \n",
        "            reader = csv.reader(file)\n",
        "\n",
        "            for row in reader:\n",
        "                for i in range(1, len(row)):                    \n",
        "                    f.write(f\"{row[0]}, {row[i]}\\n\")\n",
        "writeNodes()"
      ],
      "metadata": {
        "id": "E_-CDP5DXzNX"
      },
      "execution_count": 32,
      "outputs": []
    },
    {
      "cell_type": "code",
      "source": [
        "# Streets Dictionary\n",
        "def writeStreetsDictionary():\n",
        "    with open(\"streetNames.txt\", \"w\") as f:\n",
        "        for key, value in streetsDictionary.items():\n",
        "            f.write(key + \"\\n\")\n",
        "writeStreetsDictionary()"
      ],
      "metadata": {
        "id": "SE4BMbtDdoFl"
      },
      "execution_count": 33,
      "outputs": []
    },
    {
      "cell_type": "code",
      "source": [
        "# Intersections Adjacency List\n",
        "def writeStreetsAdList():\n",
        "    with open(\"streetsAdList.txt\", \"w\") as f:\n",
        "        for streets in intersectionsAdList:\n",
        "            for i in range(len(streets)):\n",
        "                streets[i] = str(streets[i])    \n",
        "            f.write(', '.join(streets) + \"\\n\")        \n",
        "writeStreetsAdList()"
      ],
      "metadata": {
        "id": "gOBUCQUcl5Ay"
      },
      "execution_count": 34,
      "outputs": []
    },
    {
      "cell_type": "code",
      "source": [
        "# Write street map\n",
        "def writeStreetMap():\n",
        "    with open(\"map.txt\", \"w\") as f:  \n",
        "        for key, value in map.items():\n",
        "            listWOCommas = (str(value).strip('[]')).replace(\",\", \"\")\n",
        "            f.write(str(key) + \" \" + listWOCommas + '\\n')\n",
        "writeStreetMap()"
      ],
      "metadata": {
        "id": "wQy0a94GsHFk"
      },
      "execution_count": 35,
      "outputs": []
    },
    {
      "cell_type": "markdown",
      "source": [
        "##**Aristas**"
      ],
      "metadata": {
        "id": "rxtXFDrBSOma"
      }
    },
    {
      "cell_type": "code",
      "source": [
        "# devuelve el tiempo actual automáticamente\n",
        "def getCurrentTime():\n",
        "\n",
        "    now = datetime.now()\n",
        "    time = now.strftime(\"%H %p\")\n",
        "    time = time.split(\" \")\n",
        "\n",
        "    # convierto la hora a la timezone de Perú\n",
        "    if time[0] <= \"5\":\n",
        "        time[0] = 24 - (5 - int(time[0]))\n",
        "    else:\n",
        "        time[0] = int(time[0]) - 5\n",
        "    \n",
        "    return str(time[0])\n",
        "\n",
        "def askTime():\n",
        "    time = int(input(\"Digite la hora en formato de 24hrs: \"));\n",
        "    if time not in range(0, 24):\n",
        "        time = askTime() \n",
        "    return time"
      ],
      "metadata": {
        "id": "Erj9KyTfVgbd"
      },
      "execution_count": 36,
      "outputs": []
    },
    {
      "cell_type": "code",
      "source": [
        "def getlongitude(n1, n2):\n",
        "    lon1,lat1=n1\n",
        "    lon2,lat2=n2\n",
        "    if lon1 == lat2 and lon2 == lat1:\n",
        "      longitude = 0\n",
        "    else:\n",
        "      lon1 = radians(lon1)\n",
        "      lon2 = radians(lon2)\n",
        "      lat1 = radians(lat1)\n",
        "      lat2 = radians(lat2)\n",
        "      dlon = lon2 - lon1\n",
        "      dlat = lat2 - lat1\n",
        "      a = sin(dlat / 2)**2 + cos(lat1) * cos(lat2) * sin(dlon / 2)**2\n",
        "      c = 2 * asin(sqrt(a)) \n",
        "      r = 6371\n",
        "      longitude = c * r\n",
        "    \n",
        "    return longitude"
      ],
      "metadata": {
        "id": "ROBaiwsgb3RA"
      },
      "execution_count": 37,
      "outputs": []
    },
    {
      "cell_type": "code",
      "source": [
        "def point_percent(time):\n",
        "    percent = 0\n",
        "    # de 0am - 4am\n",
        "    if time in range(0, 5):\n",
        "        percent = 0.1\n",
        "    \n",
        "    # de 5am - 8am\n",
        "    if time in range(5, 9):\n",
        "        percent = 0.9\n",
        "\n",
        "    # de 9am - 16pm\n",
        "    if time in range(9, 18):\n",
        "        percent = 0.5\n",
        "\n",
        "    # de 18pm - 20pm\n",
        "    if time in range(18, 21):\n",
        "        percent = 1.3\n",
        "\n",
        "    # de 21pm - 23pm\n",
        "    if time in range(21, 23):\n",
        "        percent = 0.3\n",
        "\n",
        "    return percent"
      ],
      "metadata": {
        "id": "-W8AtKaEKlR0"
      },
      "execution_count": 38,
      "outputs": []
    },
    {
      "cell_type": "code",
      "source": [
        "def getFactor(time, val):\n",
        "    # el factor está en el rango de 0 - 50\n",
        "    # dependiendo de la hora, mi valor va estar en un determinado rango\n",
        "    # puntos por hora\n",
        "    # índice: hora, elemento: puntaje\n",
        "                 # 0  1  2  3  4  5  6   7   8   9   10  11  12  13  14  15  16  17  18  19  20  21  22  23  \n",
        "    time_points = [0, 1, 1, 1, 2, 3, 15, 19, 17, 14, 13, 10, 10, 11, 12, 13, 14, 16, 17, 20, 19, 15, 4, 2]\n",
        "\n",
        "    percent = point_percent(time)\n",
        "    factor = int((val * percent) + time_points[time])\n",
        "\n",
        "    if factor > 50:\n",
        "        factor = 50\n",
        "\n",
        "    return factor"
      ],
      "metadata": {
        "id": "cHcovThSvPoR"
      },
      "execution_count": 39,
      "outputs": []
    },
    {
      "cell_type": "code",
      "source": [
        "def calculateWeight(n1, n2, time, val):\n",
        "    \n",
        "    longitude = getlongitude(n1, n2) * 100\n",
        "    factor = getFactor(time, val)\n",
        "    \n",
        "    weight = longitude * factor\n",
        "\n",
        "    if longitude > 0:\n",
        "        weight = round(factor + longitude, 2)\n",
        "    \n",
        "    if (weight > 100):\n",
        "        return 99\n",
        "    else:\n",
        "        return int(weight)"
      ],
      "metadata": {
        "id": "H4mEZNHBbe_g"
      },
      "execution_count": 40,
      "outputs": []
    },
    {
      "cell_type": "code",
      "source": [
        "# el nuevo grafo será un diccionario, donde cada \"key\" contiene 1 arreglo de arreglos\n",
        "# cada arreglo dentro del principal, tiene solo 2 posiciones\n",
        "# 1era posición del arreglo: 1 tuple de intersecciones\n",
        "# 2da posición del arreglo: peso de la arista con respecto al valor de la \"key\"\n",
        "\n",
        "def updateGraph():\n",
        "    time = askTime()\n",
        "\n",
        "    # map con pesos\n",
        "    mapW = {}\n",
        "    for key in map2:\n",
        "        if key in latlong:\n",
        "            k = getInterId(key)\n",
        "            mapW[k] = []\n",
        "        else:\n",
        "            continue\n",
        "        for arista in map2[key]:\n",
        "            edge = (arista[0], arista[1])\n",
        "            if edge in latlong:\n",
        "                weight = calculateWeight(getOnlyLatLong(key), getOnlyLatLong(edge), time, arista[2])\n",
        "                # [intersección, peso]\n",
        "                mapW[k].append((getInterId(edge), weight))\n",
        "        mapW[k]\n",
        "    return mapW"
      ],
      "metadata": {
        "id": "B6zdJ6h98DzB"
      },
      "execution_count": 51,
      "outputs": []
    },
    {
      "cell_type": "code",
      "source": [
        "def getMaxKey(G):\n",
        "    return max(G, key = G.get)"
      ],
      "metadata": {
        "id": "mw1ivyAxNHV8"
      },
      "execution_count": 65,
      "outputs": []
    },
    {
      "cell_type": "code",
      "source": [
        "mapW = updateGraph()\n",
        "printDictionary(mapW)"
      ],
      "metadata": {
        "id": "-y3Nkfsy5rzN"
      },
      "execution_count": null,
      "outputs": []
    },
    {
      "cell_type": "markdown",
      "source": [
        "##**Shortest Paths**\n",
        "Encuentra el camino más corto entre 2 puntos"
      ],
      "metadata": {
        "id": "PmA29J3M6qzb"
      }
    },
    {
      "cell_type": "code",
      "source": [
        "def getMin(pq):\n",
        "    weight = pq[0][1]\n",
        "    index = 0\n",
        "    # pair: (vértice, peso)\n",
        "    for i, pair in enumerate(pq):\n",
        "        if pair[1] < weight:\n",
        "            weight = pair[1]\n",
        "            index = i\n",
        "    # index: pos en la pq que tiene el menor peso\n",
        "    return index\n",
        "\n",
        "getMin([(100, 124), (125, 10), (123, 100), (125, 127)])"
      ],
      "metadata": {
        "colab": {
          "base_uri": "https://localhost:8080/"
        },
        "id": "LtbDFHad-k7k",
        "outputId": "7e0bb925-a3dc-4f2c-a0a1-035bcd5157c7"
      },
      "execution_count": 55,
      "outputs": [
        {
          "output_type": "execute_result",
          "data": {
            "text/plain": [
              "1"
            ]
          },
          "metadata": {},
          "execution_count": 55
        }
      ]
    },
    {
      "cell_type": "code",
      "source": [
        "# s: source node\n",
        "# dijkstra\n",
        "def findPaths(graph, s):\n",
        "    n = getMaxKey(graph)\n",
        "    \n",
        "    path = [-1] * n\n",
        "    visited = [False] * n\n",
        "    \n",
        "    cost = [math.inf] * n\n",
        "    cost[s] = 0\n",
        "\n",
        "    # vértice, peso \n",
        "    # el peso del 1er nodo siempre va a ser 0\n",
        "    if graph[s]:\n",
        "        priority_queue = [(s, 0)]\n",
        "    else:\n",
        "        print(f\"No existe el vértice {s}\")\n",
        "        return\n",
        "\n",
        "    #print(f\"Tamaño del diccionario: {n}\")\n",
        "    #print(path)\n",
        "    #print(visited)\n",
        "    #print(cost)\n",
        "\n",
        "    while priority_queue:\n",
        "        # vértice, peso\n",
        "        u, g = priority_queue.pop(getMin(priority_queue))\n",
        "        if not visited[u]:\n",
        "            visited[u] = True\n",
        "\n",
        "        # loop over all the neighbours of the current node (s)\n",
        "        # vértice, peso\n",
        "        for v, w in graph[u]:\n",
        "            # skip visited neighbours\n",
        "            if not visited[v]:\n",
        "                weight = g + w\n",
        "                if weight < cost[v]:\n",
        "                    cost[v] = weight\n",
        "                    path[v] = u\n",
        "                    priority_queue.append((v, weight))\n",
        "    return path, cost"
      ],
      "metadata": {
        "id": "806pniqo6xey"
      },
      "execution_count": 69,
      "outputs": []
    },
    {
      "cell_type": "code",
      "source": [
        "p, c = findPaths(mapW, 50)"
      ],
      "metadata": {
        "id": "2jTD2dk8CTbA"
      },
      "execution_count": 153,
      "outputs": []
    },
    {
      "cell_type": "code",
      "source": [
        "def definePath(camino):\n",
        "    G = []\n",
        "    for i in range(len(camino)):\n",
        "        s = []\n",
        "        for index, e in enumerate(camino):\n",
        "            if e == i:\n",
        "                s.append(index)\n",
        "        G.append(s)\n",
        "    return G\n",
        "\n",
        "p = definePath(p)\n",
        "print(p)"
      ],
      "metadata": {
        "id": "_8Hmaqkgsnc5"
      },
      "execution_count": null,
      "outputs": []
    },
    {
      "cell_type": "code",
      "source": [
        "def bfs_al(G, n1, n2):\n",
        "    n = len(G)\n",
        "    visited = [False] * n\n",
        "    path = [-1] * n\n",
        "    queue = [ (n1, 0) ]\n",
        "    visited[n1] = True\n",
        "\n",
        "    while queue:\n",
        "        # vértice, peso\n",
        "        u, w = queue.pop(0)\n",
        "\n",
        "        # si encuentra el punto final, retorna el peso del camino\n",
        "        if u == n2: return path, w\n",
        "\n",
        "        for v, p in G[u]:\n",
        "            if visited[v] == False:\n",
        "                visited[v] = True\n",
        "                path[v] = u\n",
        "                queue.append((v, w + p))\n",
        "    return -1\n",
        "\n",
        "path, weight = bfs_al(mapW, 30, 31)\n",
        "path = definePath(path)"
      ],
      "metadata": {
        "id": "9LXjS2ugHsJg"
      },
      "execution_count": 159,
      "outputs": []
    },
    {
      "cell_type": "code",
      "source": [
        "def drawG_al(G, directed = False, path = []):\n",
        "    graph = gv.Digraph(\"listaAdyacencia\") if directed else gv.Graph(\"alegria\")\n",
        "    n = len(G)\n",
        "    added = set()\n",
        "\n",
        "    for v, u in enumerate(path):\n",
        "        if u != -1:\n",
        "            graph.edge(str(u), str(v), dir = \"forward\", penwidth = \"2\", color = \"orange\")\n",
        "            added.add(f\"{u}, {v}\")\n",
        "            added.add(f\"{v}, {u}\")\n",
        "        \n",
        "    for u in range(n):\n",
        "        for v in G[u]:\n",
        "            if not directed and not f\"{u}, {v}\" in added:\n",
        "                added.add(f\"{u}, {v}\")\n",
        "                added.add(f\"{v}, {u}\")\n",
        "                graph.edge(str(u), str(v))\n",
        "            elif directed:\n",
        "                graph.edge(str(u), str(v))\n",
        "    return graph\n",
        "\n",
        "drawG_al(path)"
      ],
      "metadata": {
        "id": "7v4ce2jeE6wu"
      },
      "execution_count": null,
      "outputs": []
    }
  ]
}